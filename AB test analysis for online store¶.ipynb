{
 "cells": [
  {
   "cell_type": "markdown",
   "metadata": {},
   "source": [
    "# Приоритизация гипотез и анализ A/B теста для интернет-магазина"
   ]
  },
  {
   "cell_type": "markdown",
   "metadata": {},
   "source": [
    "# Часть 1. Приоритизация гипотез."
   ]
  },
  {
   "cell_type": "markdown",
   "metadata": {},
   "source": [
    "**Цели и задачи:**"
   ]
  },
  {
   "cell_type": "markdown",
   "metadata": {},
   "source": [
    " - применить фреймворк ICE для приоритизации гипотез, отсортировать их по убыванию приоритета;\n",
    " - применить фреймворк RICE для приоритизации гипотез, отсортировать их по убыванию приоритета;\n",
    " - указать, как изменилась приоритизация гипотез при применении RICE вместо ICE, объяснить, почему так произошло."
   ]
  },
  {
   "cell_type": "markdown",
   "metadata": {},
   "source": [
    "Основной задачей проекта также является оценка результатов А/В теста, который должен показать, приведет ли предложенная гипотеза к увеличению выручки интернет- магазина в группе В. Для анализа результатов А/В теста необходимы следующие шаги:\n",
    "    \n",
    " - для оценки изменения результатов эксперимента на каждый день тестирования необходимо изучить графики таких кумулятивныхданных данных, как: выручки, среднего чека и конверсии; \n",
    " - для выявления аномальных данных необходимо изучение точечного графика количества заказов по пользователям и по стоимости заказов, а также определение 95-ого и 99-ого перцентилей для определения границы аномадтных значений;\n",
    " - для того, чтобы сделать выводы о том, произоли ли изменения между тестируемыми группами необходимо провести оценку статистической значимости в среднем чеке и в среднем количестве заказов на посетителя между группами."
   ]
  },
  {
   "cell_type": "code",
   "execution_count": 1,
   "metadata": {},
   "outputs": [],
   "source": [
    "import pandas as pd\n",
    "import numpy as np\n",
    "import datetime as dt\n",
    "import scipy.stats as stats\n",
    "from matplotlib import pyplot as plt\n",
    "import seaborn as sns"
   ]
  },
  {
   "cell_type": "markdown",
   "metadata": {},
   "source": [
    "**Предобработка**"
   ]
  },
  {
   "cell_type": "code",
   "execution_count": 2,
   "metadata": {},
   "outputs": [],
   "source": [
    "hypothesis = pd.read_csv('/datasets/hypothesis.csv')"
   ]
  },
  {
   "cell_type": "code",
   "execution_count": 3,
   "metadata": {},
   "outputs": [
    {
     "name": "stdout",
     "output_type": "stream",
     "text": [
      "<class 'pandas.core.frame.DataFrame'>\n",
      "RangeIndex: 9 entries, 0 to 8\n",
      "Data columns (total 5 columns):\n",
      " #   Column      Non-Null Count  Dtype \n",
      "---  ------      --------------  ----- \n",
      " 0   Hypothesis  9 non-null      object\n",
      " 1   Reach       9 non-null      int64 \n",
      " 2   Impact      9 non-null      int64 \n",
      " 3   Confidence  9 non-null      int64 \n",
      " 4   Efforts     9 non-null      int64 \n",
      "dtypes: int64(4), object(1)\n",
      "memory usage: 488.0+ bytes\n"
     ]
    }
   ],
   "source": [
    "hypothesis.info()"
   ]
  },
  {
   "cell_type": "markdown",
   "metadata": {},
   "source": [
    "Фрейм с данными о гипотезах содержит 9 строк и 5 столбцов:\n",
    " - Hypothesis — краткое описание гипотезы;\n",
    " - Reach — охват пользователей по 10-балльной шкале;\n",
    " - Impact — влияние на пользователей по 10-балльной шкале;\n",
    " - Confidence —  уверенность в гипотезе по 10-балльной шкале;\n",
    " - Efforts — затраты ресурсов на проверку гипотезы по 10-балльной шкале.\n",
    " Пропусков нет."
   ]
  },
  {
   "cell_type": "markdown",
   "metadata": {},
   "source": [
    "Проверка на наличие явных дубликатов:"
   ]
  },
  {
   "cell_type": "code",
   "execution_count": 4,
   "metadata": {},
   "outputs": [],
   "source": [
    "def get_df_name(df):\n",
    "    name =[x for x in globals() if globals()[x] is df][0]\n",
    "    return name"
   ]
  },
  {
   "cell_type": "code",
   "execution_count": 5,
   "metadata": {},
   "outputs": [
    {
     "name": "stdout",
     "output_type": "stream",
     "text": [
      "В таблице  hypothesis нет дубликатов\n"
     ]
    }
   ],
   "source": [
    "for df in [hypothesis]:\n",
    "    a = df.duplicated().sum()\n",
    "    if a > 0:\n",
    "        print(f'Количество дубликатов в таблице: {a}')\n",
    "    else:\n",
    "        print(f'В таблице  {get_df_name(df)} нет дубликатов')"
   ]
  },
  {
   "cell_type": "markdown",
   "metadata": {},
   "source": [
    "Приведем названия столбцов к удобному для работы стилю:"
   ]
  },
  {
   "cell_type": "code",
   "execution_count": 6,
   "metadata": {},
   "outputs": [],
   "source": [
    "def processing(df):\n",
    "    if df.duplicated().sum() > 0:\n",
    "        df.drop_duplicates(inplace=True)\n",
    "    df.columns = df.columns.str.lower()\n",
    "    df.columns = df.columns.str.replace(' ','_')\n",
    "    return df.info()"
   ]
  },
  {
   "cell_type": "code",
   "execution_count": 7,
   "metadata": {},
   "outputs": [
    {
     "name": "stdout",
     "output_type": "stream",
     "text": [
      "<class 'pandas.core.frame.DataFrame'>\n",
      "RangeIndex: 9 entries, 0 to 8\n",
      "Data columns (total 5 columns):\n",
      " #   Column      Non-Null Count  Dtype \n",
      "---  ------      --------------  ----- \n",
      " 0   hypothesis  9 non-null      object\n",
      " 1   reach       9 non-null      int64 \n",
      " 2   impact      9 non-null      int64 \n",
      " 3   confidence  9 non-null      int64 \n",
      " 4   efforts     9 non-null      int64 \n",
      "dtypes: int64(4), object(1)\n",
      "memory usage: 488.0+ bytes\n"
     ]
    }
   ],
   "source": [
    "processing(hypothesis)"
   ]
  },
  {
   "cell_type": "markdown",
   "metadata": {},
   "source": [
    "Все столбцы имеют корректный тип данных."
   ]
  },
  {
   "cell_type": "code",
   "execution_count": 8,
   "metadata": {},
   "outputs": [
    {
     "data": {
      "text/plain": [
       "array(['Добавить два новых канала привлечения трафика, что позволит привлекать на 30% больше пользователей',\n",
       "       'Запустить собственную службу доставки, что сократит срок доставки заказов',\n",
       "       'Добавить блоки рекомендаций товаров на сайт интернет магазина, чтобы повысить конверсию и средний чек заказа',\n",
       "       'Изменить структура категорий, что увеличит конверсию, т.к. пользователи быстрее найдут нужный товар',\n",
       "       'Изменить цвет фона главной страницы, чтобы увеличить вовлеченность пользователей',\n",
       "       'Добавить страницу отзывов клиентов о магазине, что позволит увеличить количество заказов',\n",
       "       'Показать на главной странице баннеры с актуальными акциями и распродажами, чтобы увеличить конверсию',\n",
       "       'Добавить форму подписки на все основные страницы, чтобы собрать базу клиентов для email-рассылок',\n",
       "       'Запустить акцию, дающую скидку на товар в день рождения'],\n",
       "      dtype=object)"
      ]
     },
     "execution_count": 8,
     "metadata": {},
     "output_type": "execute_result"
    }
   ],
   "source": [
    "hypothesis['hypothesis'].unique()"
   ]
  },
  {
   "cell_type": "markdown",
   "metadata": {},
   "source": [
    "Неявных дубликатов в формулировках гипотез нет."
   ]
  },
  {
   "cell_type": "markdown",
   "metadata": {},
   "source": [
    "В ходе предобработки данных:\n",
    "- выввели общую информацию о данных фрейма 'hypothesis', содержащего 9 строк и 5 столбцов;\n",
    "- все столбцы имеют корректный тип данных;\n",
    "- пропусков в данных не обнаружено;\n",
    "- явных и неявных дубликатов не обанружено;\n",
    "- привели названия столбцов к более удобному для работы стилю."
   ]
  },
  {
   "cell_type": "markdown",
   "metadata": {},
   "source": [
    "## Приоритизация гипотез"
   ]
  },
  {
   "cell_type": "markdown",
   "metadata": {},
   "source": [
    "Гипотезы приоритизируют, чтобы сократить расходы на эксперименты и запускать тестирование только наиболее перспективных идей."
   ]
  },
  {
   "cell_type": "markdown",
   "metadata": {},
   "source": [
    "**Применение метода ICE для приоритизации гипотез**"
   ]
  },
  {
   "cell_type": "code",
   "execution_count": 9,
   "metadata": {},
   "outputs": [
    {
     "data": {
      "text/html": [
       "<div>\n",
       "<style scoped>\n",
       "    .dataframe tbody tr th:only-of-type {\n",
       "        vertical-align: middle;\n",
       "    }\n",
       "\n",
       "    .dataframe tbody tr th {\n",
       "        vertical-align: top;\n",
       "    }\n",
       "\n",
       "    .dataframe thead th {\n",
       "        text-align: right;\n",
       "    }\n",
       "</style>\n",
       "<table border=\"1\" class=\"dataframe\">\n",
       "  <thead>\n",
       "    <tr style=\"text-align: right;\">\n",
       "      <th></th>\n",
       "      <th>hypothesis</th>\n",
       "      <th>ICE</th>\n",
       "    </tr>\n",
       "  </thead>\n",
       "  <tbody>\n",
       "    <tr>\n",
       "      <th>8</th>\n",
       "      <td>Запустить акцию, дающую скидку на товар в день рождения</td>\n",
       "      <td>16.20</td>\n",
       "    </tr>\n",
       "    <tr>\n",
       "      <th>0</th>\n",
       "      <td>Добавить два новых канала привлечения трафика, что позволит привлекать на 30% больше пользователей</td>\n",
       "      <td>13.33</td>\n",
       "    </tr>\n",
       "    <tr>\n",
       "      <th>7</th>\n",
       "      <td>Добавить форму подписки на все основные страницы, чтобы собрать базу клиентов для email-рассылок</td>\n",
       "      <td>11.20</td>\n",
       "    </tr>\n",
       "    <tr>\n",
       "      <th>6</th>\n",
       "      <td>Показать на главной странице баннеры с актуальными акциями и распродажами, чтобы увеличить конверсию</td>\n",
       "      <td>8.00</td>\n",
       "    </tr>\n",
       "    <tr>\n",
       "      <th>2</th>\n",
       "      <td>Добавить блоки рекомендаций товаров на сайт интернет магазина, чтобы повысить конверсию и средний чек заказа</td>\n",
       "      <td>7.00</td>\n",
       "    </tr>\n",
       "    <tr>\n",
       "      <th>1</th>\n",
       "      <td>Запустить собственную службу доставки, что сократит срок доставки заказов</td>\n",
       "      <td>2.00</td>\n",
       "    </tr>\n",
       "    <tr>\n",
       "      <th>5</th>\n",
       "      <td>Добавить страницу отзывов клиентов о магазине, что позволит увеличить количество заказов</td>\n",
       "      <td>1.33</td>\n",
       "    </tr>\n",
       "    <tr>\n",
       "      <th>3</th>\n",
       "      <td>Изменить структура категорий, что увеличит конверсию, т.к. пользователи быстрее найдут нужный товар</td>\n",
       "      <td>1.12</td>\n",
       "    </tr>\n",
       "    <tr>\n",
       "      <th>4</th>\n",
       "      <td>Изменить цвет фона главной страницы, чтобы увеличить вовлеченность пользователей</td>\n",
       "      <td>1.00</td>\n",
       "    </tr>\n",
       "  </tbody>\n",
       "</table>\n",
       "</div>"
      ],
      "text/plain": [
       "                                                                                                     hypothesis  \\\n",
       "8                                                       Запустить акцию, дающую скидку на товар в день рождения   \n",
       "0            Добавить два новых канала привлечения трафика, что позволит привлекать на 30% больше пользователей   \n",
       "7              Добавить форму подписки на все основные страницы, чтобы собрать базу клиентов для email-рассылок   \n",
       "6          Показать на главной странице баннеры с актуальными акциями и распродажами, чтобы увеличить конверсию   \n",
       "2  Добавить блоки рекомендаций товаров на сайт интернет магазина, чтобы повысить конверсию и средний чек заказа   \n",
       "1                                     Запустить собственную службу доставки, что сократит срок доставки заказов   \n",
       "5                      Добавить страницу отзывов клиентов о магазине, что позволит увеличить количество заказов   \n",
       "3           Изменить структура категорий, что увеличит конверсию, т.к. пользователи быстрее найдут нужный товар   \n",
       "4                              Изменить цвет фона главной страницы, чтобы увеличить вовлеченность пользователей   \n",
       "\n",
       "     ICE  \n",
       "8  16.20  \n",
       "0  13.33  \n",
       "7  11.20  \n",
       "6   8.00  \n",
       "2   7.00  \n",
       "1   2.00  \n",
       "5   1.33  \n",
       "3   1.12  \n",
       "4   1.00  "
      ]
     },
     "execution_count": 9,
     "metadata": {},
     "output_type": "execute_result"
    }
   ],
   "source": [
    "pd.options.display.max_colwidth = 110\n",
    "hypothesis['ICE'] = round((hypothesis['impact'] * hypothesis['confidence']) / hypothesis['efforts'], 2)\n",
    "hypothesis[['hypothesis', 'ICE']].sort_values(by='ICE', ascending=False)"
   ]
  },
  {
   "cell_type": "markdown",
   "metadata": {},
   "source": [
    "Топ-3 лидирующие гипотезы с наивысшими баллами в результате приоритизации методом ICE: \n",
    " - 'Запустить акцию, дающую скидку на товар в день рождения' - 16.2, \n",
    " - 'Добавить два новых канала привлечения трафика, что позволит привлекать на 30% больше пользователей' - 13.33, \n",
    " - 'Добавить форму подписки на все основные страницы, чтобы собрать базу клиентов для email-рассылок' - 11.2."
   ]
  },
  {
   "cell_type": "markdown",
   "metadata": {},
   "source": [
    "Самый низкий балл у гипотезы: 'Изменить цвет фона главной страницы, чтобы увеличить вовлеченность пользователей' - 1 балл."
   ]
  },
  {
   "cell_type": "markdown",
   "metadata": {},
   "source": [
    "**Применение метода RICE для приоритизации гипотез**"
   ]
  },
  {
   "cell_type": "code",
   "execution_count": 10,
   "metadata": {},
   "outputs": [
    {
     "data": {
      "text/html": [
       "<div>\n",
       "<style scoped>\n",
       "    .dataframe tbody tr th:only-of-type {\n",
       "        vertical-align: middle;\n",
       "    }\n",
       "\n",
       "    .dataframe tbody tr th {\n",
       "        vertical-align: top;\n",
       "    }\n",
       "\n",
       "    .dataframe thead th {\n",
       "        text-align: right;\n",
       "    }\n",
       "</style>\n",
       "<table border=\"1\" class=\"dataframe\">\n",
       "  <thead>\n",
       "    <tr style=\"text-align: right;\">\n",
       "      <th></th>\n",
       "      <th>hypothesis</th>\n",
       "      <th>RICE</th>\n",
       "    </tr>\n",
       "  </thead>\n",
       "  <tbody>\n",
       "    <tr>\n",
       "      <th>7</th>\n",
       "      <td>Добавить форму подписки на все основные страницы, чтобы собрать базу клиентов для email-рассылок</td>\n",
       "      <td>112.0</td>\n",
       "    </tr>\n",
       "    <tr>\n",
       "      <th>2</th>\n",
       "      <td>Добавить блоки рекомендаций товаров на сайт интернет магазина, чтобы повысить конверсию и средний чек заказа</td>\n",
       "      <td>56.0</td>\n",
       "    </tr>\n",
       "    <tr>\n",
       "      <th>0</th>\n",
       "      <td>Добавить два новых канала привлечения трафика, что позволит привлекать на 30% больше пользователей</td>\n",
       "      <td>40.0</td>\n",
       "    </tr>\n",
       "    <tr>\n",
       "      <th>6</th>\n",
       "      <td>Показать на главной странице баннеры с актуальными акциями и распродажами, чтобы увеличить конверсию</td>\n",
       "      <td>40.0</td>\n",
       "    </tr>\n",
       "    <tr>\n",
       "      <th>8</th>\n",
       "      <td>Запустить акцию, дающую скидку на товар в день рождения</td>\n",
       "      <td>16.2</td>\n",
       "    </tr>\n",
       "    <tr>\n",
       "      <th>3</th>\n",
       "      <td>Изменить структура категорий, что увеличит конверсию, т.к. пользователи быстрее найдут нужный товар</td>\n",
       "      <td>9.0</td>\n",
       "    </tr>\n",
       "    <tr>\n",
       "      <th>1</th>\n",
       "      <td>Запустить собственную службу доставки, что сократит срок доставки заказов</td>\n",
       "      <td>4.0</td>\n",
       "    </tr>\n",
       "    <tr>\n",
       "      <th>5</th>\n",
       "      <td>Добавить страницу отзывов клиентов о магазине, что позволит увеличить количество заказов</td>\n",
       "      <td>4.0</td>\n",
       "    </tr>\n",
       "    <tr>\n",
       "      <th>4</th>\n",
       "      <td>Изменить цвет фона главной страницы, чтобы увеличить вовлеченность пользователей</td>\n",
       "      <td>3.0</td>\n",
       "    </tr>\n",
       "  </tbody>\n",
       "</table>\n",
       "</div>"
      ],
      "text/plain": [
       "                                                                                                     hypothesis  \\\n",
       "7              Добавить форму подписки на все основные страницы, чтобы собрать базу клиентов для email-рассылок   \n",
       "2  Добавить блоки рекомендаций товаров на сайт интернет магазина, чтобы повысить конверсию и средний чек заказа   \n",
       "0            Добавить два новых канала привлечения трафика, что позволит привлекать на 30% больше пользователей   \n",
       "6          Показать на главной странице баннеры с актуальными акциями и распродажами, чтобы увеличить конверсию   \n",
       "8                                                       Запустить акцию, дающую скидку на товар в день рождения   \n",
       "3           Изменить структура категорий, что увеличит конверсию, т.к. пользователи быстрее найдут нужный товар   \n",
       "1                                     Запустить собственную службу доставки, что сократит срок доставки заказов   \n",
       "5                      Добавить страницу отзывов клиентов о магазине, что позволит увеличить количество заказов   \n",
       "4                              Изменить цвет фона главной страницы, чтобы увеличить вовлеченность пользователей   \n",
       "\n",
       "    RICE  \n",
       "7  112.0  \n",
       "2   56.0  \n",
       "0   40.0  \n",
       "6   40.0  \n",
       "8   16.2  \n",
       "3    9.0  \n",
       "1    4.0  \n",
       "5    4.0  \n",
       "4    3.0  "
      ]
     },
     "execution_count": 10,
     "metadata": {},
     "output_type": "execute_result"
    }
   ],
   "source": [
    "hypothesis['RICE'] = (hypothesis['reach'] * hypothesis['impact'] * hypothesis['confidence']) / hypothesis['efforts']\n",
    "hypothesis[['hypothesis', 'RICE']].sort_values(by='RICE', ascending=False)"
   ]
  },
  {
   "cell_type": "markdown",
   "metadata": {},
   "source": [
    "Топ-4 лидирующие гипотезы с наивысшими баллами в результате приоритизации методом RICE: \n",
    " - 'Добавить форму подписки на все основные страницы, чтобы собрать базу клиентов для email-рассылок'' - 112, \n",
    " - 'Добавить блоки рекомендаций товаров на сайт интернет магазина, чтобы повысить конверсию и средний чек заказа' - 56, \n",
    " - 'Добавить два новых канала привлечения трафика, что позволит привлекать на 30% больше пользователей' - 40,\n",
    " - 'Показать на главной странице баннеры с актуальными акциями и распродажами, чтобы увеличить конверсию' - 40."
   ]
  },
  {
   "cell_type": "markdown",
   "metadata": {},
   "source": [
    "Самый низкий балл, как и в предыдущем случае, у гипотезы: 'Изменить цвет фона главной страницы, чтобы увеличить вовлеченность пользователей' - 3 баллла."
   ]
  },
  {
   "cell_type": "markdown",
   "metadata": {},
   "source": [
    "Для наглядности выведем все столбцы полученной таблицы:"
   ]
  },
  {
   "cell_type": "code",
   "execution_count": 11,
   "metadata": {},
   "outputs": [
    {
     "data": {
      "text/html": [
       "<div>\n",
       "<style scoped>\n",
       "    .dataframe tbody tr th:only-of-type {\n",
       "        vertical-align: middle;\n",
       "    }\n",
       "\n",
       "    .dataframe tbody tr th {\n",
       "        vertical-align: top;\n",
       "    }\n",
       "\n",
       "    .dataframe thead th {\n",
       "        text-align: right;\n",
       "    }\n",
       "</style>\n",
       "<table border=\"1\" class=\"dataframe\">\n",
       "  <thead>\n",
       "    <tr style=\"text-align: right;\">\n",
       "      <th></th>\n",
       "      <th>hypothesis</th>\n",
       "      <th>reach</th>\n",
       "      <th>impact</th>\n",
       "      <th>confidence</th>\n",
       "      <th>efforts</th>\n",
       "      <th>ICE</th>\n",
       "      <th>RICE</th>\n",
       "    </tr>\n",
       "  </thead>\n",
       "  <tbody>\n",
       "    <tr>\n",
       "      <th>8</th>\n",
       "      <td>Запустить акцию, дающую скидку на товар в день рождения</td>\n",
       "      <td>1</td>\n",
       "      <td>9</td>\n",
       "      <td>9</td>\n",
       "      <td>5</td>\n",
       "      <td>16.20</td>\n",
       "      <td>16.2</td>\n",
       "    </tr>\n",
       "    <tr>\n",
       "      <th>0</th>\n",
       "      <td>Добавить два новых канала привлечения трафика, что позволит привлекать на 30% больше пользователей</td>\n",
       "      <td>3</td>\n",
       "      <td>10</td>\n",
       "      <td>8</td>\n",
       "      <td>6</td>\n",
       "      <td>13.33</td>\n",
       "      <td>40.0</td>\n",
       "    </tr>\n",
       "    <tr>\n",
       "      <th>7</th>\n",
       "      <td>Добавить форму подписки на все основные страницы, чтобы собрать базу клиентов для email-рассылок</td>\n",
       "      <td>10</td>\n",
       "      <td>7</td>\n",
       "      <td>8</td>\n",
       "      <td>5</td>\n",
       "      <td>11.20</td>\n",
       "      <td>112.0</td>\n",
       "    </tr>\n",
       "    <tr>\n",
       "      <th>6</th>\n",
       "      <td>Показать на главной странице баннеры с актуальными акциями и распродажами, чтобы увеличить конверсию</td>\n",
       "      <td>5</td>\n",
       "      <td>3</td>\n",
       "      <td>8</td>\n",
       "      <td>3</td>\n",
       "      <td>8.00</td>\n",
       "      <td>40.0</td>\n",
       "    </tr>\n",
       "    <tr>\n",
       "      <th>2</th>\n",
       "      <td>Добавить блоки рекомендаций товаров на сайт интернет магазина, чтобы повысить конверсию и средний чек заказа</td>\n",
       "      <td>8</td>\n",
       "      <td>3</td>\n",
       "      <td>7</td>\n",
       "      <td>3</td>\n",
       "      <td>7.00</td>\n",
       "      <td>56.0</td>\n",
       "    </tr>\n",
       "    <tr>\n",
       "      <th>1</th>\n",
       "      <td>Запустить собственную службу доставки, что сократит срок доставки заказов</td>\n",
       "      <td>2</td>\n",
       "      <td>5</td>\n",
       "      <td>4</td>\n",
       "      <td>10</td>\n",
       "      <td>2.00</td>\n",
       "      <td>4.0</td>\n",
       "    </tr>\n",
       "    <tr>\n",
       "      <th>5</th>\n",
       "      <td>Добавить страницу отзывов клиентов о магазине, что позволит увеличить количество заказов</td>\n",
       "      <td>3</td>\n",
       "      <td>2</td>\n",
       "      <td>2</td>\n",
       "      <td>3</td>\n",
       "      <td>1.33</td>\n",
       "      <td>4.0</td>\n",
       "    </tr>\n",
       "    <tr>\n",
       "      <th>3</th>\n",
       "      <td>Изменить структура категорий, что увеличит конверсию, т.к. пользователи быстрее найдут нужный товар</td>\n",
       "      <td>8</td>\n",
       "      <td>3</td>\n",
       "      <td>3</td>\n",
       "      <td>8</td>\n",
       "      <td>1.12</td>\n",
       "      <td>9.0</td>\n",
       "    </tr>\n",
       "    <tr>\n",
       "      <th>4</th>\n",
       "      <td>Изменить цвет фона главной страницы, чтобы увеличить вовлеченность пользователей</td>\n",
       "      <td>3</td>\n",
       "      <td>1</td>\n",
       "      <td>1</td>\n",
       "      <td>1</td>\n",
       "      <td>1.00</td>\n",
       "      <td>3.0</td>\n",
       "    </tr>\n",
       "  </tbody>\n",
       "</table>\n",
       "</div>"
      ],
      "text/plain": [
       "                                                                                                     hypothesis  \\\n",
       "8                                                       Запустить акцию, дающую скидку на товар в день рождения   \n",
       "0            Добавить два новых канала привлечения трафика, что позволит привлекать на 30% больше пользователей   \n",
       "7              Добавить форму подписки на все основные страницы, чтобы собрать базу клиентов для email-рассылок   \n",
       "6          Показать на главной странице баннеры с актуальными акциями и распродажами, чтобы увеличить конверсию   \n",
       "2  Добавить блоки рекомендаций товаров на сайт интернет магазина, чтобы повысить конверсию и средний чек заказа   \n",
       "1                                     Запустить собственную службу доставки, что сократит срок доставки заказов   \n",
       "5                      Добавить страницу отзывов клиентов о магазине, что позволит увеличить количество заказов   \n",
       "3           Изменить структура категорий, что увеличит конверсию, т.к. пользователи быстрее найдут нужный товар   \n",
       "4                              Изменить цвет фона главной страницы, чтобы увеличить вовлеченность пользователей   \n",
       "\n",
       "   reach  impact  confidence  efforts    ICE   RICE  \n",
       "8      1       9           9        5  16.20   16.2  \n",
       "0      3      10           8        6  13.33   40.0  \n",
       "7     10       7           8        5  11.20  112.0  \n",
       "6      5       3           8        3   8.00   40.0  \n",
       "2      8       3           7        3   7.00   56.0  \n",
       "1      2       5           4       10   2.00    4.0  \n",
       "5      3       2           2        3   1.33    4.0  \n",
       "3      8       3           3        8   1.12    9.0  \n",
       "4      3       1           1        1   1.00    3.0  "
      ]
     },
     "execution_count": 11,
     "metadata": {},
     "output_type": "execute_result"
    }
   ],
   "source": [
    "hypothesis.sort_values(by='ICE', ascending=False)"
   ]
  },
  {
   "cell_type": "markdown",
   "metadata": {},
   "source": [
    "Тот факт, что методы ICE и RICE выдали разные результаты можно объяснить тем, что метод RICE учитывает дополнительный фактор, а именно: 'Reach'- охват пользователей. Таким образом, гипотезы с высоким значением Reach, в ходе приоритизации гипотез методом RICE поднялись наверх. А лидирующая гипотеза в случае с методом ICE, опустилась вследствие очень низкого показателя охвата пользователей. По результатам двух методов приоритизации гепотез можно сделать вывод, что в первую очередь следует тестировать гипотезу 'Добавить форму подписки на все основные страницы, чтобы собрать базу клиентов для email-рассылок', т.к. она имеет оптимальные значения всех пораметров."
   ]
  },
  {
   "cell_type": "markdown",
   "metadata": {},
   "source": [
    "# Часть 2. Анализ A/B-теста"
   ]
  },
  {
   "cell_type": "markdown",
   "metadata": {},
   "source": [
    "**Цели и задачи:**"
   ]
  },
  {
   "cell_type": "markdown",
   "metadata": {},
   "source": [
    " - построить график кумулятивной выручки по группам, сделать выводы и предположения;\n",
    " - построить график кумулятивного среднего чека по группам, сделать выводы и предположения;\n",
    " - построить график относительного изменения кумулятивного среднего чека группы B к группе A, сделать выводы и предположения;\n",
    " - построить график кумулятивного среднего количества заказов на посетителя по группам, сделать выводы и предположения;\n",
    " - построить график относительного изменения кумулятивного среднего количества заказов на посетителя группы B к группе A, сделать выводы и предположения.\n",
    " - построить точечный график количества заказов по пользователям, сделать выводы и предположения;\n",
    " - посчитать 95-й и 99-й перцентили количества заказов на пользователя, выбрать границу для определения аномальных пользователей;\n",
    " - построить точечный график стоимостей заказов, сделать выводы и предположения;\n",
    " - посчитать 95-й и 99-й перцентили стоимости заказов, выбрать границу для определения аномальных заказов;\n",
    " - посчитать статистическую значимость различий в среднем количестве заказов на посетителя между группами по «сырым» данным, сделать выводы и предположения;\n",
    " - посчитать статистическую значимость различий в среднем чеке заказа между группами по «сырым» данным, сделать выводы и предположения;\n",
    " - посчитать статистическую значимость различий в среднем количестве заказов на посетителя между группами по «очищенным» данным, сделать выводы и предположения;\n",
    " - посчитать статистическую значимость различий в среднем чеке заказа между группами по «очищенным» данным, сделать выводы и предположения;\n",
    " - принять решение по результатам теста и объяснить его. Варианты решений:\n",
    "1. Остановить тест, зафиксировать победу одной из групп.\n",
    "2. Остановить тест, зафиксировать отсутствие различий между группами.\n",
    "3. Продолжить тест."
   ]
  },
  {
   "cell_type": "markdown",
   "metadata": {},
   "source": [
    "**Предобработка**"
   ]
  },
  {
   "cell_type": "code",
   "execution_count": 12,
   "metadata": {},
   "outputs": [],
   "source": [
    "orders = pd.read_csv('/datasets/orders.csv')\n",
    "visitors = pd.read_csv('/datasets/visitors.csv')"
   ]
  },
  {
   "cell_type": "code",
   "execution_count": 13,
   "metadata": {},
   "outputs": [
    {
     "name": "stdout",
     "output_type": "stream",
     "text": [
      "<class 'pandas.core.frame.DataFrame'>\n",
      "RangeIndex: 1197 entries, 0 to 1196\n",
      "Data columns (total 5 columns):\n",
      " #   Column         Non-Null Count  Dtype \n",
      "---  ------         --------------  ----- \n",
      " 0   transactionid  1197 non-null   int64 \n",
      " 1   visitorid      1197 non-null   int64 \n",
      " 2   date           1197 non-null   object\n",
      " 3   revenue        1197 non-null   int64 \n",
      " 4   group          1197 non-null   object\n",
      "dtypes: int64(3), object(2)\n",
      "memory usage: 46.9+ KB\n"
     ]
    }
   ],
   "source": [
    "processing(orders)"
   ]
  },
  {
   "cell_type": "markdown",
   "metadata": {},
   "source": [
    "Фрейм с данными о заказах содержит 1197 строк и 5 столбцов:\n",
    "\n",
    " - transactionid — идентификатор заказа;\n",
    " - visitorid — идентификатор пользователя, совершившего заказ;\n",
    " - date — дата, когда был совершён заказ;;\n",
    " - revenue — выручка заказа;\n",
    " - group — группа A/B-теста, в которую попал заказ.\n",
    " - Пропусков нет."
   ]
  },
  {
   "cell_type": "code",
   "execution_count": 14,
   "metadata": {},
   "outputs": [
    {
     "name": "stdout",
     "output_type": "stream",
     "text": [
      "<class 'pandas.core.frame.DataFrame'>\n",
      "RangeIndex: 62 entries, 0 to 61\n",
      "Data columns (total 3 columns):\n",
      " #   Column    Non-Null Count  Dtype \n",
      "---  ------    --------------  ----- \n",
      " 0   date      62 non-null     object\n",
      " 1   group     62 non-null     object\n",
      " 2   visitors  62 non-null     int64 \n",
      "dtypes: int64(1), object(2)\n",
      "memory usage: 1.6+ KB\n"
     ]
    }
   ],
   "source": [
    "processing(visitors)"
   ]
  },
  {
   "cell_type": "markdown",
   "metadata": {},
   "source": [
    "Фрейм с данными о пользователях содержит 62 строки и 3 столбца:\n",
    "\n",
    " - date — дата;\n",
    " - group — группа A/B-теста;\n",
    " - visitors — количество пользователей в указанную дату в указанной группе A/B-теста;\n",
    " - Пропусков нет."
   ]
  },
  {
   "cell_type": "code",
   "execution_count": 15,
   "metadata": {},
   "outputs": [],
   "source": [
    "orders = orders.rename(columns={'transactionid':'transaction_id', 'visitorid':'visitor_id'})"
   ]
  },
  {
   "cell_type": "markdown",
   "metadata": {},
   "source": [
    "Проверка на наличие явных дубликатов:"
   ]
  },
  {
   "cell_type": "code",
   "execution_count": 16,
   "metadata": {},
   "outputs": [
    {
     "name": "stdout",
     "output_type": "stream",
     "text": [
      "В таблице  df нет дубликатов\n",
      "В таблице  df нет дубликатов\n"
     ]
    }
   ],
   "source": [
    "for df in [orders, visitors]:\n",
    "    a = df.duplicated().sum()\n",
    "    if a > 0:\n",
    "        print(f'Количество дубликатов в таблице: {a}')\n",
    "    else:\n",
    "        print(f'В таблице  {get_df_name(df)} нет дубликатов')"
   ]
  },
  {
   "cell_type": "code",
   "execution_count": 17,
   "metadata": {},
   "outputs": [],
   "source": [
    "orders['date'] = pd.to_datetime(orders['date'], format = '%Y-%m-%d')\n",
    "visitors['date'] = pd.to_datetime(visitors['date'], format = '%Y-%m-%d')"
   ]
  },
  {
   "cell_type": "markdown",
   "metadata": {},
   "source": [
    "В ходе предобработки данных:\n",
    "- выввели общую информацию о данных: фрейм с данными о заказах содержит 1197 строк и 5 столбцов, фрейм с данными о пользователях содержит 62 строки и 3 столбца;\n",
    "- таблицы с данными о заказах и пользователях имели некорректный тип данных в столбцах с датами, привели к необходимому для работы типу;\n",
    "- пропусков в данных не обнаружено;\n",
    "- явных дубликатов не обанружено;\n",
    "- привели названия столбцов к более удобному для работы стилю."
   ]
  },
  {
   "cell_type": "markdown",
   "metadata": {},
   "source": [
    "## Анализ A/B-теста"
   ]
  },
  {
   "cell_type": "markdown",
   "metadata": {},
   "source": [
    "Чтобы исключить проблему подсматривания, необходимо анализировать графики кумулятивных метрик."
   ]
  },
  {
   "cell_type": "markdown",
   "metadata": {},
   "source": [
    "**Кумулятивная выручка по дням и группам A/B-тестирования**"
   ]
  },
  {
   "cell_type": "code",
   "execution_count": 18,
   "metadata": {},
   "outputs": [
    {
     "data": {
      "text/html": [
       "<div>\n",
       "<style scoped>\n",
       "    .dataframe tbody tr th:only-of-type {\n",
       "        vertical-align: middle;\n",
       "    }\n",
       "\n",
       "    .dataframe tbody tr th {\n",
       "        vertical-align: top;\n",
       "    }\n",
       "\n",
       "    .dataframe thead th {\n",
       "        text-align: right;\n",
       "    }\n",
       "</style>\n",
       "<table border=\"1\" class=\"dataframe\">\n",
       "  <thead>\n",
       "    <tr style=\"text-align: right;\">\n",
       "      <th></th>\n",
       "      <th>date</th>\n",
       "      <th>group</th>\n",
       "      <th>orders</th>\n",
       "      <th>buyers</th>\n",
       "      <th>revenue</th>\n",
       "      <th>visitors</th>\n",
       "    </tr>\n",
       "  </thead>\n",
       "  <tbody>\n",
       "    <tr>\n",
       "      <th>0</th>\n",
       "      <td>2019-08-01</td>\n",
       "      <td>A</td>\n",
       "      <td>24</td>\n",
       "      <td>20</td>\n",
       "      <td>148579</td>\n",
       "      <td>719</td>\n",
       "    </tr>\n",
       "    <tr>\n",
       "      <th>1</th>\n",
       "      <td>2019-08-01</td>\n",
       "      <td>B</td>\n",
       "      <td>21</td>\n",
       "      <td>20</td>\n",
       "      <td>101217</td>\n",
       "      <td>713</td>\n",
       "    </tr>\n",
       "    <tr>\n",
       "      <th>2</th>\n",
       "      <td>2019-08-02</td>\n",
       "      <td>A</td>\n",
       "      <td>44</td>\n",
       "      <td>38</td>\n",
       "      <td>242401</td>\n",
       "      <td>1338</td>\n",
       "    </tr>\n",
       "    <tr>\n",
       "      <th>3</th>\n",
       "      <td>2019-08-02</td>\n",
       "      <td>B</td>\n",
       "      <td>45</td>\n",
       "      <td>43</td>\n",
       "      <td>266748</td>\n",
       "      <td>1294</td>\n",
       "    </tr>\n",
       "    <tr>\n",
       "      <th>4</th>\n",
       "      <td>2019-08-03</td>\n",
       "      <td>A</td>\n",
       "      <td>68</td>\n",
       "      <td>62</td>\n",
       "      <td>354874</td>\n",
       "      <td>1845</td>\n",
       "    </tr>\n",
       "  </tbody>\n",
       "</table>\n",
       "</div>"
      ],
      "text/plain": [
       "        date group  orders  buyers  revenue  visitors\n",
       "0 2019-08-01     A      24      20   148579       719\n",
       "1 2019-08-01     B      21      20   101217       713\n",
       "2 2019-08-02     A      44      38   242401      1338\n",
       "3 2019-08-02     B      45      43   266748      1294\n",
       "4 2019-08-03     A      68      62   354874      1845"
      ]
     },
     "execution_count": 18,
     "metadata": {},
     "output_type": "execute_result"
    }
   ],
   "source": [
    "datesGroups = orders[['date','group']].drop_duplicates()\n",
    "ordersAggregated = datesGroups.apply(lambda x: orders[np.logical_and(orders['date'] <= x['date'], orders['group'] == x['group'])]\\\n",
    ".agg({'date' : 'max', 'group' : 'max', 'transaction_id' : 'nunique', 'visitor_id' : 'nunique', 'revenue' : 'sum'}), axis=1).sort_values(by=['date','group'])\n",
    "visitorsAggregated = datesGroups.apply(lambda x: visitors[np.logical_and(visitors['date'] <= x['date'], visitors['group'] == x['group'])].agg({'date' : 'max', 'group' : 'max', 'visitors' : 'sum'}), axis=1).sort_values(by=['date','group'])\n",
    "cumulativeData = ordersAggregated.merge(visitorsAggregated, left_on=['date', 'group'], right_on=['date', 'group'])\n",
    "cumulativeData.columns = ['date', 'group', 'orders', 'buyers', 'revenue', 'visitors']\n",
    "cumulativeData.head(5)"
   ]
  },
  {
   "cell_type": "code",
   "execution_count": 19,
   "metadata": {},
   "outputs": [
    {
     "data": {
      "image/png": "[encoded data removed]",
      "text/plain": [
       "<Figure size 720x504 with 1 Axes>"
      ]
     },
     "metadata": {
      "needs_background": "light"
     },
     "output_type": "display_data"
    }
   ],
   "source": [
    "cumulativeRevenueA = cumulativeData[cumulativeData['group']=='A'][['date','revenue', 'orders']]\n",
    "cumulativeRevenueB = cumulativeData[cumulativeData['group']=='B'][['date','revenue', 'orders']]\n",
    "plt.figure(figsize=(10,7))\n",
    "plt.plot(cumulativeRevenueA['date'], cumulativeRevenueA['revenue'], label='A')\n",
    "plt.plot(cumulativeRevenueB['date'], cumulativeRevenueB['revenue'], label='B')\n",
    "plt.title(\"Кумулятивная выручка по дням и группам A/B-тестирования\")\n",
    "plt.xlabel('Дата')\n",
    "plt.ylabel('Выручка')\n",
    "plt.legend();\n",
    "plt.xticks(rotation=90);"
   ]
  },
  {
   "cell_type": "markdown",
   "metadata": {},
   "source": [
    "Выручка почти равномерно увеличивается в течение всего теста. По графику видно, что группа B опережает по выручке группу А. Также, заметен скачок в выручке для группы В с 18.08.2019 числа. Это может быть обусловлено наличием аномально высоких значений, увеличении количества заказов и или их стоимости. "
   ]
  },
  {
   "cell_type": "markdown",
   "metadata": {},
   "source": [
    "**Кумулятивный средний чек по группам**"
   ]
  },
  {
   "cell_type": "code",
   "execution_count": 20,
   "metadata": {},
   "outputs": [
    {
     "data": {
      "image/png": "[encoded data removed]",
      "text/plain": [
       "<Figure size 720x504 with 1 Axes>"
      ]
     },
     "metadata": {
      "needs_background": "light"
     },
     "output_type": "display_data"
    }
   ],
   "source": [
    "plt.figure(figsize=(10,7))\n",
    "plt.plot(cumulativeRevenueA['date'], cumulativeRevenueA['revenue']/cumulativeRevenueA['orders'], label='A')\n",
    "plt.plot(cumulativeRevenueB['date'], cumulativeRevenueB['revenue']/cumulativeRevenueB['orders'], label='B')\n",
    "plt.title(\"Кумулятивный средний чек по группам\")\n",
    "plt.xlabel('Дата')\n",
    "plt.ylabel('Средний чек')\n",
    "plt.legend()\n",
    "plt.xticks(rotation=90);"
   ]
  },
  {
   "cell_type": "markdown",
   "metadata": {},
   "source": [
    "По графику видно, что начальный период средние чеки группы А и В не стабильны. Также заметно влияние аномально высокого значения на средний чек для группы В. Вследствие этого заметен спад среднего чека группы В. К концу периода средний чек группы А более стабилен."
   ]
  },
  {
   "cell_type": "markdown",
   "metadata": {},
   "source": [
    "**Относительное изменение кумулятивного среднего чека группы B к группе A**"
   ]
  },
  {
   "cell_type": "code",
   "execution_count": 21,
   "metadata": {},
   "outputs": [
    {
     "data": {
      "image/png": "[encoded data removed]",
      "text/plain": [
       "<Figure size 720x504 with 1 Axes>"
      ]
     },
     "metadata": {
      "needs_background": "light"
     },
     "output_type": "display_data"
    }
   ],
   "source": [
    "mergedCumulativeRevenue = cumulativeRevenueA.merge(cumulativeRevenueB, left_on='date', right_on='date', how='left', suffixes=['A', 'B'])\n",
    "plt.figure(figsize=(10,7))\n",
    "plt.plot(mergedCumulativeRevenue['date'], (mergedCumulativeRevenue['revenueB']/mergedCumulativeRevenue['ordersB'])/(mergedCumulativeRevenue['revenueA']/mergedCumulativeRevenue['ordersA'])-1)\n",
    "plt.axhline(y=0, color='black', linestyle='--')\n",
    "plt.title(\"Относительное изменение кумулятивного среднего чека группы B к группе A\")\n",
    "plt.xlabel('Дата')\n",
    "plt.ylabel('Изменение среднего чека')\n",
    "plt.xticks(rotation=90);"
   ]
  },
  {
   "cell_type": "markdown",
   "metadata": {},
   "source": [
    "В нескольких точках график сильно скачет. Группа В совершает резкий скачек в показателе среднего чека, во второй половине теста, относительно группы А. Но здесь не хватает данных, чтобы утверждать, что метрика стабилизировалась для группы В."
   ]
  },
  {
   "cell_type": "markdown",
   "metadata": {},
   "source": [
    "**Кумулятивное среднее количество заказов на посетителя по группам**"
   ]
  },
  {
   "cell_type": "code",
   "execution_count": 22,
   "metadata": {},
   "outputs": [
    {
     "data": {
      "image/png": "[encoded data removed]",
      "text/plain": [
       "<Figure size 720x504 with 1 Axes>"
      ]
     },
     "metadata": {
      "needs_background": "light"
     },
     "output_type": "display_data"
    }
   ],
   "source": [
    "cumulativeData['conversion'] = cumulativeData['orders']/cumulativeData['visitors']\n",
    "cumulativeDataA = cumulativeData[cumulativeData['group']=='A']\n",
    "cumulativeDataB = cumulativeData[cumulativeData['group']=='B']\n",
    "plt.figure(figsize=(10,7))\n",
    "plt.plot(cumulativeDataA['date'], cumulativeDataA['conversion'], label='A')\n",
    "plt.plot(cumulativeDataB['date'], cumulativeDataB['conversion'], label='B')\n",
    "plt.title(\"Кумулятивное среднее количество заказов на посетителя по группам\")\n",
    "plt.xlabel('Дата')\n",
    "plt.ylabel('Среднее количество заказов')\n",
    "plt.xticks(rotation=90);\n",
    "plt.legend();"
   ]
  },
  {
   "cell_type": "markdown",
   "metadata": {},
   "source": [
    "В начальный период значения среднего значения заказов на поситетеля сильно скакали, конверсия для группы А была выше. Далее, значения для обеих групп стабилизировались, и картина поменялась. Конверсия пользователей для группы В стабильно выше."
   ]
  },
  {
   "cell_type": "markdown",
   "metadata": {},
   "source": [
    "**Относительное изменение кумулятивного среднего количества заказов на посетителя группы B к группе A**"
   ]
  },
  {
   "cell_type": "code",
   "execution_count": 23,
   "metadata": {},
   "outputs": [
    {
     "data": {
      "image/png": "[encoded data removed]",
      "text/plain": [
       "<Figure size 720x504 with 1 Axes>"
      ]
     },
     "metadata": {
      "needs_background": "light"
     },
     "output_type": "display_data"
    }
   ],
   "source": [
    "mergedCumulativeConversions = cumulativeDataA[['date','conversion']].merge(cumulativeDataB[['date','conversion']], left_on='date', right_on='date', how='left', suffixes=['A', 'B'])\n",
    "plt.figure(figsize=(10,7))\n",
    "plt.plot(mergedCumulativeConversions['date'], mergedCumulativeConversions['conversionB']/mergedCumulativeConversions['conversionA']-1)\n",
    "plt.axhline(y=0, color='black', linestyle='--')\n",
    "plt.axhline(y=0.1, color='grey', linestyle='--')\n",
    "plt.title(\"Относительное изменение кумулятивного среднего количества заказов на посетителя группы B к группе A\")\n",
    "plt.xlabel('Дата')\n",
    "plt.ylabel('Изменение кумулятивного среднего количества заказов на посетителя')\n",
    "plt.xticks(rotation=90);"
   ]
  },
  {
   "cell_type": "markdown",
   "metadata": {},
   "source": [
    "По графику виден сначала стремительный рост среднего количества заказов напосетителя в группе В, затем резкое падение. Затем, снова стремительный рост и стабилизация на уровне около 10 % прироста относительно группы А."
   ]
  },
  {
   "cell_type": "markdown",
   "metadata": {},
   "source": [
    "**Точечный график количества заказов по пользователям**"
   ]
  },
  {
   "cell_type": "code",
   "execution_count": 24,
   "metadata": {},
   "outputs": [
    {
     "data": {
      "image/png": "[encoded data removed]",
      "text/plain": [
       "<Figure size 720x504 with 1 Axes>"
      ]
     },
     "metadata": {
      "needs_background": "light"
     },
     "output_type": "display_data"
    }
   ],
   "source": [
    "ordersByUsers = (orders.groupby('visitor_id', as_index=False).agg({'transaction_id': 'nunique'}))\n",
    "ordersByUsers.columns = ['visitor_id', 'transaction_id']\n",
    "x_values = pd.Series(range(0,len(ordersByUsers)))\n",
    "plt.figure(figsize=(10,7))\n",
    "plt.scatter(x_values, ordersByUsers['transaction_id'])\n",
    "plt.title(\"Точечный график количества заказов по пользователям\")\n",
    "plt.xlabel('Количество пользователей')\n",
    "plt.ylabel('Количество заказов');"
   ]
  },
  {
   "cell_type": "markdown",
   "metadata": {},
   "source": [
    "Подавляющее большинство пользователей делают один заказ, еще меньше пользователей делают 2 и 3 заказа, но все же, кажется, их доля существенна. Совсем редко делают больше трех заказов. Далее проверим, является ли это аномалией."
   ]
  },
  {
   "cell_type": "markdown",
   "metadata": {},
   "source": [
    "**Определение аномальных пользователей**"
   ]
  },
  {
   "cell_type": "markdown",
   "metadata": {},
   "source": [
    "Чтобы определить границы для выявления аномальных пользователей, определим 95-й и 99-й перцентили количества заказов на пользователя"
   ]
  },
  {
   "cell_type": "code",
   "execution_count": 25,
   "metadata": {},
   "outputs": [
    {
     "data": {
      "text/plain": [
       "array([2., 4.])"
      ]
     },
     "execution_count": 25,
     "metadata": {},
     "output_type": "execute_result"
    }
   ],
   "source": [
    "np.percentile(ordersByUsers['transaction_id'], [ 95, 99])"
   ]
  },
  {
   "cell_type": "markdown",
   "metadata": {},
   "source": [
    "Не более 5 % пользователей совершали больше 2 заказов, и не более 1 % пользователей совершали больше 4 заказов. Разумно выбрать 3 заказа на одного пользователя за верхнюю границу числа заказов, и отсеять аномальных пользователей по ней."
   ]
  },
  {
   "cell_type": "markdown",
   "metadata": {},
   "source": [
    "**Точечный график стоимостей заказов**"
   ]
  },
  {
   "cell_type": "code",
   "execution_count": 26,
   "metadata": {},
   "outputs": [
    {
     "data": {
      "image/png": "[encoded data removed]",
      "text/plain": [
       "<Figure size 720x504 with 1 Axes>"
      ]
     },
     "metadata": {
      "needs_background": "light"
     },
     "output_type": "display_data"
    }
   ],
   "source": [
    "x_values = pd.Series(range(0, len(orders['revenue'])))\n",
    "plt.figure(figsize=(10,7))\n",
    "plt.scatter(x_values, orders['revenue'])\n",
    "plt.title(\"Точечный график стоимостей заказов\")\n",
    "plt.xlabel('Количество пользователей')\n",
    "plt.ylabel('Стоимость заказов');"
   ]
  },
  {
   "cell_type": "markdown",
   "metadata": {},
   "source": [
    "На графике можно заметить аномально большие стоимости заказов, от 200000. Из за них по графику очень сложно что-то понять. Установим границу по стоимости заказа в 100000 для более наглядной картины."
   ]
  },
  {
   "cell_type": "code",
   "execution_count": 27,
   "metadata": {},
   "outputs": [
    {
     "data": {
      "image/png": "[encoded data removed]",
      "text/plain": [
       "<Figure size 720x504 with 1 Axes>"
      ]
     },
     "metadata": {
      "needs_background": "light"
     },
     "output_type": "display_data"
    }
   ],
   "source": [
    "x_values = pd.Series(range(0, len(orders['revenue'])))\n",
    "plt.figure(figsize=(10,7))\n",
    "plt.scatter(x_values, orders['revenue'])\n",
    "plt.ylim(0, 100000)\n",
    "plt.title(\"Точечный график стоимостей заказов\")\n",
    "plt.xlabel('Количество пользователей')\n",
    "plt.ylabel('Стоимость заказов');"
   ]
  },
  {
   "cell_type": "markdown",
   "metadata": {},
   "source": [
    "Здесь уже видно, что заказы, дороже 20000 все реже и реже. Но по графику сложно установить аномальность значений."
   ]
  },
  {
   "cell_type": "markdown",
   "metadata": {},
   "source": [
    "**Определение аномальных заказов**"
   ]
  },
  {
   "cell_type": "markdown",
   "metadata": {},
   "source": [
    "Чтобы определить границы для выявления аномальных заказов, определим 95-й и 99-й перцентили стоимости заказов."
   ]
  },
  {
   "cell_type": "code",
   "execution_count": 28,
   "metadata": {},
   "outputs": [
    {
     "data": {
      "text/plain": [
       "array([28000. , 58233.2])"
      ]
     },
     "execution_count": 28,
     "metadata": {},
     "output_type": "execute_result"
    }
   ],
   "source": [
    "np.percentile(orders['revenue'], [ 95, 99])"
   ]
  },
  {
   "cell_type": "markdown",
   "metadata": {},
   "source": [
    "Не более, чем у 5 % заказов чек дороже 28000, и не более, чем у 1 % заказов - 58233.2."
   ]
  },
  {
   "cell_type": "markdown",
   "metadata": {},
   "source": [
    "**Статистическая значимость различий в среднем количестве заказов на посетителя между группами по «сырым» данным**"
   ]
  },
  {
   "cell_type": "code",
   "execution_count": 29,
   "metadata": {},
   "outputs": [],
   "source": [
    "ordersByUsersG = orders.groupby(['visitor_id', 'group'], as_index=False).agg({'transaction_id': 'nunique'})\n",
    "ordersByUsersG.columns = ['visitor_id','group','transaction_id']"
   ]
  },
  {
   "cell_type": "code",
   "execution_count": 30,
   "metadata": {},
   "outputs": [],
   "source": [
    "ordersByUsersA = ordersByUsersG.query('group == \"A\"').reset_index(drop=True)\n",
    "ordersByUsersB = ordersByUsersG.query('group == \"B\"').reset_index(drop=True)"
   ]
  },
  {
   "cell_type": "code",
   "execution_count": 31,
   "metadata": {},
   "outputs": [],
   "source": [
    "sampleA = pd.concat([ordersByUsersA['transaction_id'],\n",
    "                     pd.Series(0, index=np.arange(cumulativeDataA['visitors'].sum() - len(ordersByUsersA['transaction_id'])),\n",
    "                               name='transaction_id')],axis=0)\n",
    "sampleB = pd.concat([ordersByUsersB['transaction_id'],\n",
    "                     pd.Series(0, index=np.arange(cumulativeDataB['visitors'].sum() - len(ordersByUsersB['transaction_id'])),\n",
    "                               name='transaction_id')],axis=0)"
   ]
  },
  {
   "cell_type": "markdown",
   "metadata": {},
   "source": [
    "Для проверки сформулируем гипотезы:\n",
    " - Н(0): Различий между группами в среднем количестве заказов по «сырым» данным нет;\n",
    " - Н(1): Различия между группами в среднем количестве заказов по «сырым» данным статистически значимы;"
   ]
  },
  {
   "cell_type": "code",
   "execution_count": 32,
   "metadata": {},
   "outputs": [
    {
     "name": "stdout",
     "output_type": "stream",
     "text": [
      "p-значение: 0.015\n",
      "Отвергаем нулевую гипотезу: разница статистически значима\n",
      "Относительный прирост конверсии группы B: 0.144\n"
     ]
    }
   ],
   "source": [
    "alpha = 0.05\n",
    "results = stats.mannwhitneyu(sampleA, sampleB)\n",
    "print('p-значение: {:.3f}'.format(results.pvalue))\n",
    "if results.pvalue < alpha:\n",
    "    print('Отвергаем нулевую гипотезу: разница статистически значима')\n",
    "else:\n",
    "    print('Не получилось отвергнуть нулевую гипотезу, вывод о различии сделать нельзя')\n",
    "\n",
    "print(\"Относительный прирост конверсии группы B: {0:.3f}\".format(sampleB.mean()/sampleA.mean()-1))"
   ]
  },
  {
   "cell_type": "markdown",
   "metadata": {},
   "source": [
    "Таким образом, отвергнув нулевую гипотезу, мы можем предположить, что различия между группами в среднем количестве заказов по «сырым» статистически значимы. Относительный прирост среднего количества заказов группы В по отношению к группе А составляет 14.4 %."
   ]
  },
  {
   "cell_type": "markdown",
   "metadata": {},
   "source": [
    "**Статистическая значимость различий в среднем чеке заказа между группами по «сырым» данным**"
   ]
  },
  {
   "cell_type": "markdown",
   "metadata": {},
   "source": [
    "Для проверки сформулируем гипотезы:\n",
    "\n",
    " - Н(0): Различий между группами в среднем чеке заказа по «сырым» данным нет;\n",
    " - Н(1): Различия между группами в среднем чеке заказа по «сырым» данным статистически значимы;"
   ]
  },
  {
   "cell_type": "code",
   "execution_count": 33,
   "metadata": {},
   "outputs": [
    {
     "name": "stdout",
     "output_type": "stream",
     "text": [
      "p-значение: 0.729\n",
      "Не получилось отвергнуть нулевую гипотезу, вывод о различии в среднем чеке сделать нельзя\n",
      "Относительный прирост в среднем чеке группы B 0.26\n"
     ]
    }
   ],
   "source": [
    "alpha = 0.05\n",
    "results = stats.mannwhitneyu(orders[orders['group']=='A']['revenue'], orders[orders['group']=='B']['revenue'])\n",
    "print('p-значение: {:.3f}'.format(results.pvalue))\n",
    "if (results.pvalue < alpha):\n",
    "    print('Отвергаем нулевую гипотезу: разница статистически значима')\n",
    "else:\n",
    "    print('Не получилось отвергнуть нулевую гипотезу, вывод о различии в среднем чеке сделать нельзя')\n",
    "    \n",
    "\n",
    "print('Относительный прирост в среднем чеке группы B {:.2f}'.format(orders[orders['group']=='B']['revenue'].mean()/orders[orders['group']=='A']['revenue'].mean()-1))"
   ]
  },
  {
   "cell_type": "markdown",
   "metadata": {},
   "source": [
    "По «сырым» данным различий в среднем числе заказов групп A и B нет.  Однако относительный прирост группы B равен 26 %."
   ]
  },
  {
   "cell_type": "markdown",
   "metadata": {},
   "source": [
    "**Статистическая значимость различий в среднем количестве заказов на посетителя между группами по «очищенным» данным**"
   ]
  },
  {
   "cell_type": "markdown",
   "metadata": {},
   "source": [
    "Выше мы посчитали 95-ый и 99-ый перцентили количества и стоимости заказов. Примем за аномальных пользователей тех, кто совершил от 3 заказов или совершил заказ дороже 30 000 рублей."
   ]
  },
  {
   "cell_type": "code",
   "execution_count": 34,
   "metadata": {},
   "outputs": [
    {
     "data": {
      "text/plain": [
       "57"
      ]
     },
     "execution_count": 34,
     "metadata": {},
     "output_type": "execute_result"
    }
   ],
   "source": [
    "usersWithManyOrders = pd.concat(\n",
    "    [\n",
    "        ordersByUsersA[ordersByUsersA['transaction_id'] > 3]['visitor_id'],\n",
    "        ordersByUsersB[ordersByUsersB['transaction_id'] > 3]['visitor_id'],\n",
    "    ],\n",
    "    axis=0,\n",
    ")\n",
    "usersWithExpensiveOrders = orders[orders['revenue'] > 30000]['visitor_id']\n",
    "abnormalUsers = (\n",
    "    pd.concat([usersWithManyOrders, usersWithExpensiveOrders], axis=0)\n",
    "    .drop_duplicates()\n",
    "    .sort_values()\n",
    ")\n",
    "\n",
    "abnormalUsers.shape[0]"
   ]
  },
  {
   "cell_type": "markdown",
   "metadata": {},
   "source": [
    "Всего 57 аномальных пользователей. Посчитаем статистическую значимость различий в среднем количестве заказов между группами теста по очищенным данным."
   ]
  },
  {
   "cell_type": "code",
   "execution_count": 35,
   "metadata": {},
   "outputs": [],
   "source": [
    "sampleAFiltered = pd.concat([ordersByUsersA[np.logical_not(ordersByUsersA['visitor_id'].isin(abnormalUsers))]['transaction_id'],\n",
    "     pd.Series(0, index=np.arange(cumulativeDataA['visitors'].sum() - len(ordersByUsersA['transaction_id'])),\n",
    "               name='transaction_id')],axis=0)\n",
    "sampleBFiltered = pd.concat([ordersByUsersB[np.logical_not(ordersByUsersB['visitor_id'].isin(abnormalUsers))]['transaction_id'],\n",
    "     pd.Series(0, index=np.arange(cumulativeDataB['visitors'].sum() - len(ordersByUsersB['transaction_id'])),\n",
    "               name='transaction_id')],axis=0)"
   ]
  },
  {
   "cell_type": "markdown",
   "metadata": {},
   "source": [
    "Для проверки сформулируем гипотезы:\n",
    " - Н(0): Различий между группами в среднем количестве заказов по «очищенным» данным нет;\n",
    " - Н(1): Различия между группами в среднем количестве заказов по «очищенным» данным статистически значимы;"
   ]
  },
  {
   "cell_type": "code",
   "execution_count": 36,
   "metadata": {},
   "outputs": [
    {
     "name": "stdout",
     "output_type": "stream",
     "text": [
      "p-значение: 0.016\n",
      "Отвергаем нулевую гипотезу: разница статистически значима\n",
      "Относительный прирост конверсии группы B: 0.153\n"
     ]
    }
   ],
   "source": [
    "alpha = 0.05\n",
    "results = stats.mannwhitneyu(sampleAFiltered, sampleBFiltered)\n",
    "print('p-значение: {:.3f}'.format(results.pvalue))\n",
    "if results.pvalue < alpha:\n",
    "    print('Отвергаем нулевую гипотезу: разница статистически значима')\n",
    "else:\n",
    "    print('Не получилось отвергнуть нулевую гипотезу, вывод о различии сделать нельзя')\n",
    "\n",
    "print(\"Относительный прирост конверсии группы B: {0:.3f}\".format(sampleBFiltered.mean()/sampleAFiltered.mean()-1))"
   ]
  },
  {
   "cell_type": "markdown",
   "metadata": {},
   "source": [
    "Таким образом, по очещенным данным тест также показал, что  различия между группами в среднем количестве заказов статистически значимы. В данном случае значение p-value у величилось, как и прирост среднего количества заказов на покупателя для группы В по отношению к группе А. (было 14.4 %, стало 15.3 %)."
   ]
  },
  {
   "cell_type": "markdown",
   "metadata": {},
   "source": [
    "**Статистическая значимость различий в среднем чеке заказа между группами по «очищенным» данным**"
   ]
  },
  {
   "cell_type": "markdown",
   "metadata": {},
   "source": [
    "Для проверки сформулируем гипотезы:\n",
    "\n",
    " - Н(0): Различий между группами в среднем чеке заказа по «очищенным» данным нет;\n",
    " - Н(1): Различия между группами в среднем чеке заказа по «очищенным» данным статистически значимы;"
   ]
  },
  {
   "cell_type": "code",
   "execution_count": 37,
   "metadata": {},
   "outputs": [
    {
     "name": "stdout",
     "output_type": "stream",
     "text": [
      "p-значение: 0.958\n",
      "Не получилось отвергнуть нулевую гипотезу, вывод о различии в среднем чеке сделать нельзя\n",
      "Относительный прирост в среднем чеке группы B -0.02\n"
     ]
    }
   ],
   "source": [
    "results = stats.mannwhitneyu(orders[np.logical_and(orders['group']=='A', np.logical_not(orders['visitor_id'].isin(abnormalUsers)))]['revenue'],\n",
    "                             orders[np.logical_and(orders['group']=='B', np.logical_not(orders['visitor_id'].isin(abnormalUsers)))]['revenue'])\n",
    "print('p-значение: {:.3f}'.format(results.pvalue))\n",
    "if (results.pvalue < alpha):\n",
    "    print('Отвергаем нулевую гипотезу: разница статистически значима')\n",
    "else:\n",
    "    print('Не получилось отвергнуть нулевую гипотезу, вывод о различии в среднем чеке сделать нельзя')\n",
    "    \n",
    "print('Относительный прирост в среднем чеке группы B {:.2f}'.format(orders[np.logical_and(orders['group']=='B', np.logical_not(orders['visitor_id'].isin(abnormalUsers)))]['revenue'].mean()\\\n",
    "/orders[np.logical_and(orders['group']=='A', np.logical_not(orders['visitor_id'].isin(abnormalUsers)))]['revenue'].mean()-1))"
   ]
  },
  {
   "cell_type": "markdown",
   "metadata": {},
   "source": [
    "По очищенным данным тест, также как и по сырым данным, показал, что статистическихъ значимых различий между группами в среднем чеке заказа нет. Однако, относительный прирост изменился. На сырых данных он показал превосходство группы В на 26 %. В данном случае группа А опережает группу В в среднем чеке на 2 %."
   ]
  },
  {
   "cell_type": "markdown",
   "metadata": {},
   "source": [
    "**Выводы по проведенному тесту:**"
   ]
  },
  {
   "cell_type": "markdown",
   "metadata": {},
   "source": [
    " - есть статистически значимые различия в среднем количестве заказов на посетителя между группами по «сырым»  и по «очищенным» данным;\n",
    " - нет статистически значимого различия по среднему чеку между группами ни по «сырым», ни по данным после фильтрации аномалий;\n",
    " - график различия среднего количества заказов между группами показывает стремительный рост данного показателя в группе В, и стабилизация на уровне около 10 % прироста относительно группы А;\n",
    " - график различия среднего чека говорит о том, что группа В к концу теста превосходит группу А в данном показателе почти на 20%;"
   ]
  },
  {
   "cell_type": "markdown",
   "metadata": {},
   "source": [
    "Исходя из обнаруженных фактов, тест стоит продолжить. Несмотря на то, что мы установили, что группа В превосходит группу А в конверсии на 15.3 %, и это превосходство статистически значимо, различий между средними чеками групп мы не обнаружили. А при оценке «очищенных» данных обнаружилось превосходство группы А над группой В на 2 %. Также, график различия среднего чека говорит, о том, что данных слишком мало, чтобы сделать четкий вывод о стабилизации данной метрики у группы В."
   ]
  },
  {
   "cell_type": "markdown",
   "metadata": {},
   "source": [
    "Судя по графику относительного изменения среднего чека, тест стоит продолжать, как минимум еще 4 дня, и там уже делать окончательный вывод относительно выигрша группы В."
   ]
  },
  {
   "cell_type": "markdown",
   "metadata": {},
   "source": [
    "**Общие выводы:**"
   ]
  },
  {
   "cell_type": "markdown",
   "metadata": {},
   "source": [
    "Топ-3 лидирующие гипотезы с наивысшими баллами в результате приоритизации методом ICE:\n",
    "\n",
    " - 'Запустить акцию, дающую скидку на товар в день рождения' - 16.2,\n",
    " - 'Добавить два новых канала привлечения трафика, что позволит привлекать на 30% больше пользователей' - 13.33,\n",
    " - 'Добавить форму подписки на все основные страницы, чтобы собрать базу клиентов для email-рассылок' - 11.2."
   ]
  },
  {
   "cell_type": "markdown",
   "metadata": {},
   "source": [
    "Топ-4 лидирующие гипотезы с наивысшими баллами в результате приоритизации методом RICE: \n",
    " - 'Добавить форму подписки на все основные страницы, чтобы собрать базу клиентов для email-рассылок'' - 112, \n",
    " - 'Добавить блоки рекомендаций товаров на сайт интернет магазина, чтобы повысить конверсию и средний чек заказа' - 56, \n",
    " - 'Добавить два новых канала привлечения трафика, что позволит привлекать на 30% больше пользователей' - 40,\n",
    " - 'Показать на главной странице баннеры с актуальными акциями и распродажами, чтобы увеличить конверсию' - 40."
   ]
  },
  {
   "cell_type": "markdown",
   "metadata": {},
   "source": [
    "Тот факт, что методы ICE и RICE выдали разные результаты можно объяснить тем, что метод RICE учитывает дополнительный фактор, а именно: 'Reach'- охват пользователей. Таким образом, гипотезы с высоким значением Reach, в ходе приоритизации гипотез методом RICE поднялись наверх. А лидирующая гипотеза в случае с методом ICE, опустилась вследствие очень низкого показателя охвата пользователей. По результатам двух методов приоритизации гепотез можно сделать вывод, что в первую очередь следует тестировать гипотезу 'Добавить форму подписки на все основные страницы, чтобы собрать базу клиентов для email-рассылок', т.к. она имеет оптимальные значения всех пораметров."
   ]
  },
  {
   "cell_type": "markdown",
   "metadata": {},
   "source": [
    "Исходя из обнаруженных фактов, тест стоит продолжить. Несмотря на то, что мы установили, что группа В превосходит группу А в конверсии на 15.3 %, и это превосходство статистически значимо, различий между средними чеками групп мы не обнаружили. А при оценке «очищенных» данных обнаружилось превосходство группы А над группой В на 2 %. Также, график различия среднего чека говорит, о том, что данных слишком мало, чтобы сделать четкий вывод о стабилизации данной метрики у группы В."
   ]
  }
 ],
 "metadata": {
  "ExecuteTimeLog": [
   {
    "duration": 1228,
    "start_time": "2024-06-17T09:37:28.346Z"
   },
   {
    "duration": 78,
    "start_time": "2024-06-17T09:37:29.576Z"
   },
   {
    "duration": 10,
    "start_time": "2024-06-17T09:37:50.672Z"
   },
   {
    "duration": 10,
    "start_time": "2024-06-17T09:39:26.912Z"
   },
   {
    "duration": 4,
    "start_time": "2024-06-17T09:47:59.580Z"
   },
   {
    "duration": 4,
    "start_time": "2024-06-17T09:48:00.021Z"
   },
   {
    "duration": 93,
    "start_time": "2024-06-17T09:49:26.133Z"
   },
   {
    "duration": 3,
    "start_time": "2024-06-17T09:50:12.430Z"
   },
   {
    "duration": 13,
    "start_time": "2024-06-17T09:50:13.836Z"
   },
   {
    "duration": 6,
    "start_time": "2024-06-17T10:11:04.477Z"
   },
   {
    "duration": 10,
    "start_time": "2024-06-17T10:16:32.550Z"
   },
   {
    "duration": 8,
    "start_time": "2024-06-17T10:17:22.030Z"
   },
   {
    "duration": 15,
    "start_time": "2024-06-17T10:20:25.624Z"
   },
   {
    "duration": 10,
    "start_time": "2024-06-17T10:22:51.352Z"
   },
   {
    "duration": 51,
    "start_time": "2024-06-17T10:26:47.459Z"
   },
   {
    "duration": 141,
    "start_time": "2024-06-17T10:42:18.799Z"
   },
   {
    "duration": 11,
    "start_time": "2024-06-17T10:43:38.127Z"
   },
   {
    "duration": 14,
    "start_time": "2024-06-17T10:44:16.391Z"
   },
   {
    "duration": 5,
    "start_time": "2024-06-17T10:58:33.947Z"
   },
   {
    "duration": 3,
    "start_time": "2024-06-17T10:59:18.041Z"
   },
   {
    "duration": 25,
    "start_time": "2024-06-17T10:59:18.330Z"
   },
   {
    "duration": 10,
    "start_time": "2024-06-17T10:59:18.634Z"
   },
   {
    "duration": 2,
    "start_time": "2024-06-17T10:59:19.538Z"
   },
   {
    "duration": 5,
    "start_time": "2024-06-17T10:59:19.866Z"
   },
   {
    "duration": 3,
    "start_time": "2024-06-17T10:59:20.466Z"
   },
   {
    "duration": 11,
    "start_time": "2024-06-17T10:59:22.154Z"
   },
   {
    "duration": 4,
    "start_time": "2024-06-17T10:59:22.874Z"
   },
   {
    "duration": 10,
    "start_time": "2024-06-17T10:59:23.954Z"
   },
   {
    "duration": 10,
    "start_time": "2024-06-17T10:59:26.034Z"
   },
   {
    "duration": 9,
    "start_time": "2024-06-17T10:59:26.570Z"
   },
   {
    "duration": 57,
    "start_time": "2024-06-17T10:59:27.866Z"
   },
   {
    "duration": 14,
    "start_time": "2024-06-17T10:59:28.178Z"
   },
   {
    "duration": 10,
    "start_time": "2024-06-17T10:59:28.775Z"
   },
   {
    "duration": 8,
    "start_time": "2024-06-17T10:59:29.651Z"
   },
   {
    "duration": 2,
    "start_time": "2024-06-17T10:59:52.506Z"
   },
   {
    "duration": 6,
    "start_time": "2024-06-17T10:59:52.971Z"
   },
   {
    "duration": 2,
    "start_time": "2024-06-17T11:00:11.699Z"
   },
   {
    "duration": 6,
    "start_time": "2024-06-17T11:00:12.179Z"
   },
   {
    "duration": 5,
    "start_time": "2024-06-17T11:01:31.404Z"
   },
   {
    "duration": 3,
    "start_time": "2024-06-17T11:01:34.426Z"
   },
   {
    "duration": 7,
    "start_time": "2024-06-17T11:01:36.719Z"
   },
   {
    "duration": 3,
    "start_time": "2024-06-17T11:02:45.867Z"
   },
   {
    "duration": 5,
    "start_time": "2024-06-17T11:02:46.355Z"
   },
   {
    "duration": 7,
    "start_time": "2024-06-17T11:05:43.452Z"
   },
   {
    "duration": 1347,
    "start_time": "2024-06-17T13:15:13.338Z"
   },
   {
    "duration": 72,
    "start_time": "2024-06-17T13:15:14.687Z"
   },
   {
    "duration": 11,
    "start_time": "2024-06-17T13:15:14.761Z"
   },
   {
    "duration": 4,
    "start_time": "2024-06-17T13:15:16.965Z"
   },
   {
    "duration": 5,
    "start_time": "2024-06-17T13:15:17.486Z"
   },
   {
    "duration": 3,
    "start_time": "2024-06-17T13:15:18.944Z"
   },
   {
    "duration": 11,
    "start_time": "2024-06-17T13:15:19.376Z"
   },
   {
    "duration": 5,
    "start_time": "2024-06-17T13:15:19.779Z"
   },
   {
    "duration": 13,
    "start_time": "2024-06-17T13:15:20.326Z"
   },
   {
    "duration": 10,
    "start_time": "2024-06-17T13:15:21.284Z"
   },
   {
    "duration": 11,
    "start_time": "2024-06-17T13:15:22.282Z"
   },
   {
    "duration": 172,
    "start_time": "2024-06-17T13:15:23.791Z"
   },
   {
    "duration": 12,
    "start_time": "2024-06-17T13:15:23.965Z"
   },
   {
    "duration": 14,
    "start_time": "2024-06-17T13:15:24.305Z"
   },
   {
    "duration": 6,
    "start_time": "2024-06-17T13:15:25.038Z"
   },
   {
    "duration": 14,
    "start_time": "2024-06-17T13:15:25.123Z"
   },
   {
    "duration": 4,
    "start_time": "2024-06-17T13:18:47.828Z"
   },
   {
    "duration": 8,
    "start_time": "2024-06-17T13:18:51.013Z"
   },
   {
    "duration": 392,
    "start_time": "2024-06-17T13:18:51.697Z"
   },
   {
    "duration": 17,
    "start_time": "2024-06-17T13:19:49.940Z"
   },
   {
    "duration": 12,
    "start_time": "2024-06-17T13:19:50.268Z"
   },
   {
    "duration": 3,
    "start_time": "2024-06-17T13:19:50.719Z"
   },
   {
    "duration": 7,
    "start_time": "2024-06-17T13:19:51.223Z"
   },
   {
    "duration": 255,
    "start_time": "2024-06-17T13:19:51.476Z"
   },
   {
    "duration": 242,
    "start_time": "2024-06-17T13:21:29.885Z"
   },
   {
    "duration": 232,
    "start_time": "2024-06-17T13:27:50.324Z"
   },
   {
    "duration": 3,
    "start_time": "2024-06-17T13:27:58.671Z"
   },
   {
    "duration": 26,
    "start_time": "2024-06-17T13:27:59.680Z"
   },
   {
    "duration": 10,
    "start_time": "2024-06-17T13:28:01.017Z"
   },
   {
    "duration": 3,
    "start_time": "2024-06-17T13:28:02.569Z"
   },
   {
    "duration": 5,
    "start_time": "2024-06-17T13:28:03.092Z"
   },
   {
    "duration": 4,
    "start_time": "2024-06-17T13:28:04.059Z"
   },
   {
    "duration": 11,
    "start_time": "2024-06-17T13:28:04.455Z"
   },
   {
    "duration": 4,
    "start_time": "2024-06-17T13:28:04.900Z"
   },
   {
    "duration": 14,
    "start_time": "2024-06-17T13:28:05.712Z"
   },
   {
    "duration": 10,
    "start_time": "2024-06-17T13:28:06.310Z"
   },
   {
    "duration": 11,
    "start_time": "2024-06-17T13:28:06.916Z"
   },
   {
    "duration": 61,
    "start_time": "2024-06-17T13:28:08.469Z"
   },
   {
    "duration": 11,
    "start_time": "2024-06-17T13:28:08.812Z"
   },
   {
    "duration": 11,
    "start_time": "2024-06-17T13:28:09.463Z"
   },
   {
    "duration": 4,
    "start_time": "2024-06-17T13:28:10.094Z"
   },
   {
    "duration": 6,
    "start_time": "2024-06-17T13:28:10.627Z"
   },
   {
    "duration": 213,
    "start_time": "2024-06-17T13:28:10.718Z"
   },
   {
    "duration": 3,
    "start_time": "2024-06-17T13:29:44.237Z"
   },
   {
    "duration": 8,
    "start_time": "2024-06-17T13:31:19.731Z"
   },
   {
    "duration": 5,
    "start_time": "2024-06-17T13:31:36.314Z"
   },
   {
    "duration": 8,
    "start_time": "2024-06-17T13:34:30.018Z"
   },
   {
    "duration": 5,
    "start_time": "2024-06-17T13:38:03.926Z"
   },
   {
    "duration": 154,
    "start_time": "2024-06-17T13:40:52.679Z"
   },
   {
    "duration": 130,
    "start_time": "2024-06-17T13:42:07.425Z"
   },
   {
    "duration": 7,
    "start_time": "2024-06-17T13:49:36.723Z"
   },
   {
    "duration": 9,
    "start_time": "2024-06-17T13:50:47.114Z"
   },
   {
    "duration": 254,
    "start_time": "2024-06-17T13:53:40.260Z"
   },
   {
    "duration": 268,
    "start_time": "2024-06-17T13:57:16.185Z"
   },
   {
    "duration": 184,
    "start_time": "2024-06-17T13:57:27.824Z"
   },
   {
    "duration": 178,
    "start_time": "2024-06-17T13:59:00.767Z"
   },
   {
    "duration": 167,
    "start_time": "2024-06-17T13:59:12.621Z"
   },
   {
    "duration": 165,
    "start_time": "2024-06-17T14:01:01.561Z"
   },
   {
    "duration": 158,
    "start_time": "2024-06-17T14:01:10.870Z"
   },
   {
    "duration": 165,
    "start_time": "2024-06-17T14:01:19.106Z"
   },
   {
    "duration": 232,
    "start_time": "2024-06-17T14:01:47.689Z"
   },
   {
    "duration": 163,
    "start_time": "2024-06-17T14:02:04.799Z"
   },
   {
    "duration": 328,
    "start_time": "2024-06-17T14:03:03.527Z"
   },
   {
    "duration": 196,
    "start_time": "2024-06-17T14:03:25.577Z"
   },
   {
    "duration": 182,
    "start_time": "2024-06-17T14:03:35.908Z"
   },
   {
    "duration": 185,
    "start_time": "2024-06-17T14:04:16.151Z"
   },
   {
    "duration": 190,
    "start_time": "2024-06-17T14:05:06.361Z"
   },
   {
    "duration": 158,
    "start_time": "2024-06-17T14:08:00.789Z"
   },
   {
    "duration": 1068,
    "start_time": "2024-06-17T14:12:53.020Z"
   },
   {
    "duration": 195,
    "start_time": "2024-06-17T14:13:17.976Z"
   },
   {
    "duration": 183,
    "start_time": "2024-06-17T14:13:51.071Z"
   },
   {
    "duration": 195,
    "start_time": "2024-06-17T14:14:50.143Z"
   },
   {
    "duration": 175,
    "start_time": "2024-06-17T14:17:40.617Z"
   },
   {
    "duration": 311,
    "start_time": "2024-06-17T14:19:01.951Z"
   },
   {
    "duration": 296,
    "start_time": "2024-06-17T14:22:18.509Z"
   },
   {
    "duration": 181,
    "start_time": "2024-06-17T14:24:46.234Z"
   },
   {
    "duration": 232,
    "start_time": "2024-06-17T14:27:33.988Z"
   },
   {
    "duration": 202,
    "start_time": "2024-06-17T14:27:48.381Z"
   },
   {
    "duration": 304,
    "start_time": "2024-06-17T14:43:04.608Z"
   },
   {
    "duration": 262,
    "start_time": "2024-06-17T14:44:04.213Z"
   },
   {
    "duration": 312,
    "start_time": "2024-06-17T14:49:17.508Z"
   },
   {
    "duration": 296,
    "start_time": "2024-06-17T14:49:32.870Z"
   },
   {
    "duration": 11,
    "start_time": "2024-06-17T14:57:18.540Z"
   },
   {
    "duration": 855,
    "start_time": "2024-06-17T14:57:45.311Z"
   },
   {
    "duration": 114,
    "start_time": "2024-06-17T14:58:50.010Z"
   },
   {
    "duration": 162,
    "start_time": "2024-06-17T15:01:58.971Z"
   },
   {
    "duration": 246,
    "start_time": "2024-06-17T15:04:23.119Z"
   },
   {
    "duration": 240,
    "start_time": "2024-06-17T16:17:07.560Z"
   },
   {
    "duration": 10,
    "start_time": "2024-06-17T16:17:51.681Z"
   },
   {
    "duration": 5,
    "start_time": "2024-06-17T16:18:52.727Z"
   },
   {
    "duration": 121,
    "start_time": "2024-06-17T16:21:07.377Z"
   },
   {
    "duration": 148,
    "start_time": "2024-06-17T16:22:30.788Z"
   },
   {
    "duration": 173,
    "start_time": "2024-06-17T16:22:46.868Z"
   },
   {
    "duration": 917,
    "start_time": "2024-06-17T16:25:51.989Z"
   },
   {
    "duration": 4,
    "start_time": "2024-06-17T16:26:22.337Z"
   },
   {
    "duration": 155,
    "start_time": "2024-06-17T16:34:34.395Z"
   },
   {
    "duration": 1104,
    "start_time": "2024-06-17T16:39:13.117Z"
   },
   {
    "duration": 9,
    "start_time": "2024-06-17T16:41:16.721Z"
   },
   {
    "duration": 8,
    "start_time": "2024-06-17T16:41:35.156Z"
   },
   {
    "duration": 27,
    "start_time": "2024-06-17T16:42:23.182Z"
   },
   {
    "duration": 108,
    "start_time": "2024-06-17T16:44:27.242Z"
   },
   {
    "duration": 101,
    "start_time": "2024-06-17T16:47:49.164Z"
   },
   {
    "duration": 13,
    "start_time": "2024-06-17T16:52:57.870Z"
   },
   {
    "duration": 12,
    "start_time": "2024-06-17T16:53:40.135Z"
   },
   {
    "duration": 1349,
    "start_time": "2024-06-18T06:39:23.593Z"
   },
   {
    "duration": 70,
    "start_time": "2024-06-18T06:39:24.944Z"
   },
   {
    "duration": 12,
    "start_time": "2024-06-18T06:39:25.016Z"
   },
   {
    "duration": 3,
    "start_time": "2024-06-18T06:39:25.664Z"
   },
   {
    "duration": 12,
    "start_time": "2024-06-18T06:39:25.944Z"
   },
   {
    "duration": 4,
    "start_time": "2024-06-18T06:39:26.512Z"
   },
   {
    "duration": 11,
    "start_time": "2024-06-18T06:39:26.776Z"
   },
   {
    "duration": 6,
    "start_time": "2024-06-18T06:39:27.280Z"
   },
   {
    "duration": 19,
    "start_time": "2024-06-18T06:39:27.777Z"
   },
   {
    "duration": 11,
    "start_time": "2024-06-18T06:39:28.272Z"
   },
   {
    "duration": 11,
    "start_time": "2024-06-18T06:39:28.792Z"
   },
   {
    "duration": 173,
    "start_time": "2024-06-18T06:39:29.984Z"
   },
   {
    "duration": 20,
    "start_time": "2024-06-18T06:39:30.240Z"
   },
   {
    "duration": 11,
    "start_time": "2024-06-18T06:39:30.728Z"
   },
   {
    "duration": 3,
    "start_time": "2024-06-18T06:39:31.240Z"
   },
   {
    "duration": 8,
    "start_time": "2024-06-18T06:39:31.728Z"
   },
   {
    "duration": 5,
    "start_time": "2024-06-18T06:39:31.968Z"
   },
   {
    "duration": 287,
    "start_time": "2024-06-18T06:39:32.464Z"
   },
   {
    "duration": 323,
    "start_time": "2024-06-18T06:39:32.753Z"
   },
   {
    "duration": 247,
    "start_time": "2024-06-18T06:39:33.077Z"
   },
   {
    "duration": 382,
    "start_time": "2024-06-18T06:39:33.325Z"
   },
   {
    "duration": 251,
    "start_time": "2024-06-18T06:39:33.708Z"
   },
   {
    "duration": 338,
    "start_time": "2024-06-18T06:39:33.961Z"
   },
   {
    "duration": 166,
    "start_time": "2024-06-18T06:39:34.301Z"
   },
   {
    "duration": 5,
    "start_time": "2024-06-18T06:39:34.468Z"
   },
   {
    "duration": 183,
    "start_time": "2024-06-18T06:39:34.474Z"
   },
   {
    "duration": 5,
    "start_time": "2024-06-18T06:39:34.659Z"
   },
   {
    "duration": 146,
    "start_time": "2024-06-18T06:39:35.736Z"
   },
   {
    "duration": 31,
    "start_time": "2024-06-18T06:40:48.770Z"
   },
   {
    "duration": 13,
    "start_time": "2024-06-18T06:41:07.673Z"
   },
   {
    "duration": 31,
    "start_time": "2024-06-18T06:42:02.203Z"
   },
   {
    "duration": 13,
    "start_time": "2024-06-18T06:42:04.956Z"
   },
   {
    "duration": 39,
    "start_time": "2024-06-18T06:42:05.491Z"
   },
   {
    "duration": 5,
    "start_time": "2024-06-18T06:42:30.859Z"
   },
   {
    "duration": 9,
    "start_time": "2024-06-18T06:42:42.795Z"
   },
   {
    "duration": 8,
    "start_time": "2024-06-18T06:43:10.882Z"
   },
   {
    "duration": 8,
    "start_time": "2024-06-18T06:43:32.706Z"
   },
   {
    "duration": 13,
    "start_time": "2024-06-18T06:44:15.834Z"
   },
   {
    "duration": 8,
    "start_time": "2024-06-18T06:46:32.403Z"
   },
   {
    "duration": 8,
    "start_time": "2024-06-18T06:46:47.987Z"
   },
   {
    "duration": 13,
    "start_time": "2024-06-18T06:47:44.788Z"
   },
   {
    "duration": 33,
    "start_time": "2024-06-18T06:48:10.236Z"
   },
   {
    "duration": 441,
    "start_time": "2024-06-18T06:48:37.732Z"
   },
   {
    "duration": 389,
    "start_time": "2024-06-18T06:52:33.463Z"
   },
   {
    "duration": 10,
    "start_time": "2024-06-18T07:14:23.888Z"
   },
   {
    "duration": 8,
    "start_time": "2024-06-18T07:14:24.399Z"
   },
   {
    "duration": 19,
    "start_time": "2024-06-18T07:14:24.824Z"
   },
   {
    "duration": 393,
    "start_time": "2024-06-18T07:14:25.200Z"
   },
   {
    "duration": 17,
    "start_time": "2024-06-18T07:14:52.864Z"
   },
   {
    "duration": 3,
    "start_time": "2024-06-18T07:16:39.648Z"
   },
   {
    "duration": 2,
    "start_time": "2024-06-18T07:17:32.818Z"
   },
   {
    "duration": 18,
    "start_time": "2024-06-18T07:18:54.633Z"
   },
   {
    "duration": 78,
    "start_time": "2024-06-18T07:19:06.202Z"
   },
   {
    "duration": 127,
    "start_time": "2024-06-18T07:20:50.691Z"
   },
   {
    "duration": 108,
    "start_time": "2024-06-18T07:34:02.298Z"
   },
   {
    "duration": 250,
    "start_time": "2024-06-18T07:35:44.186Z"
   },
   {
    "duration": 307,
    "start_time": "2024-06-18T07:35:57.990Z"
   },
   {
    "duration": 1742,
    "start_time": "2024-06-18T07:37:02.969Z"
   },
   {
    "duration": 926,
    "start_time": "2024-06-18T07:37:47.748Z"
   },
   {
    "duration": 908,
    "start_time": "2024-06-18T07:38:06.003Z"
   },
   {
    "duration": 167,
    "start_time": "2024-06-18T07:44:49.829Z"
   },
   {
    "duration": 1018,
    "start_time": "2024-06-18T07:44:50.213Z"
   },
   {
    "duration": 5,
    "start_time": "2024-06-18T07:45:19.117Z"
   },
   {
    "duration": 3,
    "start_time": "2024-06-18T07:46:13.045Z"
   },
   {
    "duration": 198,
    "start_time": "2024-06-18T07:46:22.670Z"
   },
   {
    "duration": 375,
    "start_time": "2024-06-18T07:47:14.830Z"
   },
   {
    "duration": 991,
    "start_time": "2024-06-18T08:05:42.062Z"
   },
   {
    "duration": 0,
    "start_time": "2024-06-18T08:05:43.054Z"
   },
   {
    "duration": 12,
    "start_time": "2024-06-18T08:06:07.054Z"
   },
   {
    "duration": 370,
    "start_time": "2024-06-18T08:06:07.958Z"
   },
   {
    "duration": 434,
    "start_time": "2024-06-18T08:11:38.761Z"
   },
   {
    "duration": 9,
    "start_time": "2024-06-18T08:12:59.960Z"
   },
   {
    "duration": 6,
    "start_time": "2024-06-18T08:15:59.602Z"
   },
   {
    "duration": 9,
    "start_time": "2024-06-18T08:16:10.434Z"
   },
   {
    "duration": 10,
    "start_time": "2024-06-18T08:17:23.947Z"
   },
   {
    "duration": 7,
    "start_time": "2024-06-18T08:17:32.611Z"
   },
   {
    "duration": 242,
    "start_time": "2024-06-18T10:57:16.072Z"
   },
   {
    "duration": 264,
    "start_time": "2024-06-18T10:57:25.631Z"
   },
   {
    "duration": 320,
    "start_time": "2024-06-18T11:07:35.163Z"
   },
   {
    "duration": 1302,
    "start_time": "2024-06-18T14:44:00.094Z"
   },
   {
    "duration": 84,
    "start_time": "2024-06-18T14:44:01.398Z"
   },
   {
    "duration": 10,
    "start_time": "2024-06-18T14:44:03.199Z"
   },
   {
    "duration": 2,
    "start_time": "2024-06-18T14:44:04.913Z"
   },
   {
    "duration": 4,
    "start_time": "2024-06-18T14:44:05.182Z"
   },
   {
    "duration": 4,
    "start_time": "2024-06-18T14:44:05.490Z"
   },
   {
    "duration": 10,
    "start_time": "2024-06-18T14:44:05.790Z"
   },
   {
    "duration": 5,
    "start_time": "2024-06-18T14:44:06.300Z"
   },
   {
    "duration": 12,
    "start_time": "2024-06-18T14:44:07.652Z"
   },
   {
    "duration": 11,
    "start_time": "2024-06-18T14:44:08.656Z"
   },
   {
    "duration": 9,
    "start_time": "2024-06-18T14:44:09.160Z"
   },
   {
    "duration": 141,
    "start_time": "2024-06-18T14:44:10.382Z"
   },
   {
    "duration": 11,
    "start_time": "2024-06-18T14:44:10.524Z"
   },
   {
    "duration": 9,
    "start_time": "2024-06-18T14:44:10.950Z"
   },
   {
    "duration": 3,
    "start_time": "2024-06-18T14:44:11.450Z"
   },
   {
    "duration": 7,
    "start_time": "2024-06-18T14:44:11.965Z"
   },
   {
    "duration": 5,
    "start_time": "2024-06-18T14:44:12.199Z"
   },
   {
    "duration": 253,
    "start_time": "2024-06-18T14:44:13.922Z"
   },
   {
    "duration": 268,
    "start_time": "2024-06-18T14:44:14.555Z"
   },
   {
    "duration": 199,
    "start_time": "2024-06-18T14:44:15.053Z"
   },
   {
    "duration": 368,
    "start_time": "2024-06-18T14:44:16.267Z"
   },
   {
    "duration": 207,
    "start_time": "2024-06-18T14:44:16.948Z"
   },
   {
    "duration": 309,
    "start_time": "2024-06-18T14:44:17.272Z"
   },
   {
    "duration": 134,
    "start_time": "2024-06-18T14:44:17.736Z"
   },
   {
    "duration": 4,
    "start_time": "2024-06-18T14:44:17.976Z"
   },
   {
    "duration": 148,
    "start_time": "2024-06-18T14:44:18.189Z"
   },
   {
    "duration": 5,
    "start_time": "2024-06-18T14:44:18.412Z"
   },
   {
    "duration": 13,
    "start_time": "2024-06-18T14:44:19.090Z"
   },
   {
    "duration": 7,
    "start_time": "2024-06-18T14:44:19.236Z"
   },
   {
    "duration": 20,
    "start_time": "2024-06-18T14:44:19.323Z"
   },
   {
    "duration": 342,
    "start_time": "2024-06-18T14:44:19.543Z"
   },
   {
    "duration": 7,
    "start_time": "2024-06-18T14:44:19.925Z"
   },
   {
    "duration": 6,
    "start_time": "2024-06-18T14:44:20.008Z"
   },
   {
    "duration": 100,
    "start_time": "2024-06-18T15:04:29.979Z"
   },
   {
    "duration": 194,
    "start_time": "2024-06-18T15:26:15.451Z"
   },
   {
    "duration": 154,
    "start_time": "2024-06-18T15:26:35.340Z"
   },
   {
    "duration": 140,
    "start_time": "2024-06-18T15:27:25.584Z"
   },
   {
    "duration": 169,
    "start_time": "2024-06-18T15:28:51.703Z"
   },
   {
    "duration": 143,
    "start_time": "2024-06-18T15:28:59.912Z"
   },
   {
    "duration": 9,
    "start_time": "2024-06-18T15:41:51.078Z"
   },
   {
    "duration": 7,
    "start_time": "2024-06-18T15:41:53.110Z"
   },
   {
    "duration": 17,
    "start_time": "2024-06-18T15:41:53.660Z"
   },
   {
    "duration": 300,
    "start_time": "2024-06-18T15:41:54.846Z"
   },
   {
    "duration": 311,
    "start_time": "2024-06-18T16:13:09.866Z"
   },
   {
    "duration": 1262,
    "start_time": "2024-06-19T06:38:07.906Z"
   },
   {
    "duration": 77,
    "start_time": "2024-06-19T06:38:09.170Z"
   },
   {
    "duration": 11,
    "start_time": "2024-06-19T06:38:10.872Z"
   },
   {
    "duration": 3,
    "start_time": "2024-06-19T06:38:12.352Z"
   },
   {
    "duration": 5,
    "start_time": "2024-06-19T06:38:12.632Z"
   },
   {
    "duration": 4,
    "start_time": "2024-06-19T06:38:13.216Z"
   },
   {
    "duration": 12,
    "start_time": "2024-06-19T06:38:13.496Z"
   },
   {
    "duration": 5,
    "start_time": "2024-06-19T06:38:14.040Z"
   },
   {
    "duration": 12,
    "start_time": "2024-06-19T06:38:15.921Z"
   },
   {
    "duration": 9,
    "start_time": "2024-06-19T06:38:16.985Z"
   },
   {
    "duration": 9,
    "start_time": "2024-06-19T06:38:18.112Z"
   },
   {
    "duration": 139,
    "start_time": "2024-06-19T06:38:19.745Z"
   },
   {
    "duration": 11,
    "start_time": "2024-06-19T06:38:20.008Z"
   },
   {
    "duration": 11,
    "start_time": "2024-06-19T06:38:20.520Z"
   },
   {
    "duration": 3,
    "start_time": "2024-06-19T06:38:21.000Z"
   },
   {
    "duration": 8,
    "start_time": "2024-06-19T06:38:21.480Z"
   },
   {
    "duration": 5,
    "start_time": "2024-06-19T06:38:21.720Z"
   },
   {
    "duration": 270,
    "start_time": "2024-06-19T06:38:22.896Z"
   },
   {
    "duration": 284,
    "start_time": "2024-06-19T06:38:23.168Z"
   },
   {
    "duration": 182,
    "start_time": "2024-06-19T06:38:23.816Z"
   },
   {
    "duration": 330,
    "start_time": "2024-06-19T06:38:24.520Z"
   },
   {
    "duration": 206,
    "start_time": "2024-06-19T06:38:25.193Z"
   },
   {
    "duration": 306,
    "start_time": "2024-06-19T06:38:25.873Z"
   },
   {
    "duration": 131,
    "start_time": "2024-06-19T06:38:26.576Z"
   },
   {
    "duration": 5,
    "start_time": "2024-06-19T06:38:27.552Z"
   },
   {
    "duration": 153,
    "start_time": "2024-06-19T06:38:28.257Z"
   },
   {
    "duration": 138,
    "start_time": "2024-06-19T06:38:28.746Z"
   },
   {
    "duration": 5,
    "start_time": "2024-06-19T06:38:29.768Z"
   },
   {
    "duration": 7,
    "start_time": "2024-06-19T06:38:30.496Z"
   },
   {
    "duration": 6,
    "start_time": "2024-06-19T06:38:30.713Z"
   },
   {
    "duration": 20,
    "start_time": "2024-06-19T06:38:31.000Z"
   },
   {
    "duration": 399,
    "start_time": "2024-06-19T06:38:31.520Z"
   },
   {
    "duration": 8,
    "start_time": "2024-06-19T06:38:32.304Z"
   },
   {
    "duration": 7,
    "start_time": "2024-06-19T06:38:32.566Z"
   },
   {
    "duration": 7,
    "start_time": "2024-06-19T06:43:53.900Z"
   },
   {
    "duration": 8,
    "start_time": "2024-06-19T06:45:42.373Z"
   },
   {
    "duration": 49,
    "start_time": "2024-06-19T06:51:47.647Z"
   },
   {
    "duration": 48,
    "start_time": "2024-06-19T06:52:12.320Z"
   },
   {
    "duration": 13,
    "start_time": "2024-06-19T06:55:13.514Z"
   },
   {
    "duration": 9,
    "start_time": "2024-06-19T06:55:27.066Z"
   },
   {
    "duration": 12,
    "start_time": "2024-06-19T06:57:45.507Z"
   },
   {
    "duration": 11,
    "start_time": "2024-06-19T06:57:53.627Z"
   },
   {
    "duration": 1127,
    "start_time": "2024-06-19T10:13:48.866Z"
   },
   {
    "duration": 9,
    "start_time": "2024-06-19T10:14:20.626Z"
   },
   {
    "duration": 9,
    "start_time": "2024-06-19T10:14:52.825Z"
   },
   {
    "duration": 8,
    "start_time": "2024-06-19T10:15:28.764Z"
   },
   {
    "duration": 9,
    "start_time": "2024-06-19T10:15:53.419Z"
   },
   {
    "duration": 8,
    "start_time": "2024-06-19T10:16:15.036Z"
   },
   {
    "duration": 9,
    "start_time": "2024-06-19T10:19:52.750Z"
   },
   {
    "duration": 1020,
    "start_time": "2024-06-19T10:28:53.329Z"
   },
   {
    "duration": 18,
    "start_time": "2024-06-19T10:30:36.656Z"
   },
   {
    "duration": 356,
    "start_time": "2024-06-19T10:34:19.466Z"
   },
   {
    "duration": 10,
    "start_time": "2024-06-19T10:45:08.415Z"
   },
   {
    "duration": 13,
    "start_time": "2024-06-19T10:45:17.768Z"
   },
   {
    "duration": 12,
    "start_time": "2024-06-19T10:49:20.650Z"
   },
   {
    "duration": 1513,
    "start_time": "2024-06-19T14:58:57.987Z"
   },
   {
    "duration": 71,
    "start_time": "2024-06-19T14:58:59.502Z"
   },
   {
    "duration": 13,
    "start_time": "2024-06-19T14:58:59.575Z"
   },
   {
    "duration": 3,
    "start_time": "2024-06-19T14:59:00.742Z"
   },
   {
    "duration": 6,
    "start_time": "2024-06-19T14:59:01.101Z"
   },
   {
    "duration": 4,
    "start_time": "2024-06-19T14:59:01.472Z"
   },
   {
    "duration": 14,
    "start_time": "2024-06-19T14:59:01.792Z"
   },
   {
    "duration": 8,
    "start_time": "2024-06-19T14:59:02.377Z"
   },
   {
    "duration": 15,
    "start_time": "2024-06-19T14:59:03.989Z"
   },
   {
    "duration": 12,
    "start_time": "2024-06-19T14:59:04.824Z"
   },
   {
    "duration": 17,
    "start_time": "2024-06-19T14:59:05.617Z"
   },
   {
    "duration": 166,
    "start_time": "2024-06-19T14:59:06.764Z"
   },
   {
    "duration": 14,
    "start_time": "2024-06-19T14:59:06.991Z"
   },
   {
    "duration": 16,
    "start_time": "2024-06-19T14:59:07.452Z"
   },
   {
    "duration": 4,
    "start_time": "2024-06-19T14:59:07.927Z"
   },
   {
    "duration": 7,
    "start_time": "2024-06-19T14:59:08.332Z"
   },
   {
    "duration": 6,
    "start_time": "2024-06-19T14:59:08.547Z"
   },
   {
    "duration": 308,
    "start_time": "2024-06-19T14:59:09.708Z"
   },
   {
    "duration": 331,
    "start_time": "2024-06-19T14:59:10.018Z"
   },
   {
    "duration": 223,
    "start_time": "2024-06-19T14:59:10.434Z"
   },
   {
    "duration": 403,
    "start_time": "2024-06-19T14:59:11.136Z"
   },
   {
    "duration": 255,
    "start_time": "2024-06-19T14:59:11.892Z"
   },
   {
    "duration": 352,
    "start_time": "2024-06-19T14:59:12.577Z"
   },
   {
    "duration": 169,
    "start_time": "2024-06-19T14:59:13.278Z"
   },
   {
    "duration": 6,
    "start_time": "2024-06-19T14:59:14.226Z"
   },
   {
    "duration": 170,
    "start_time": "2024-06-19T14:59:14.892Z"
   },
   {
    "duration": 162,
    "start_time": "2024-06-19T14:59:15.368Z"
   },
   {
    "duration": 7,
    "start_time": "2024-06-19T14:59:16.323Z"
   },
   {
    "duration": 12,
    "start_time": "2024-06-19T14:59:17.001Z"
   },
   {
    "duration": 10,
    "start_time": "2024-06-19T14:59:17.229Z"
   },
   {
    "duration": 28,
    "start_time": "2024-06-19T14:59:17.468Z"
   },
   {
    "duration": 510,
    "start_time": "2024-06-19T14:59:17.922Z"
   },
   {
    "duration": 13,
    "start_time": "2024-06-19T14:59:18.887Z"
   },
   {
    "duration": 10,
    "start_time": "2024-06-19T14:59:24.463Z"
   },
   {
    "duration": 20,
    "start_time": "2024-06-19T14:59:25.015Z"
   },
   {
    "duration": 431,
    "start_time": "2024-06-19T14:59:25.627Z"
   },
   {
    "duration": 16,
    "start_time": "2024-06-19T14:59:26.537Z"
   },
   {
    "duration": 4,
    "start_time": "2024-06-19T16:54:43.983Z"
   },
   {
    "duration": 27,
    "start_time": "2024-06-19T16:54:44.816Z"
   },
   {
    "duration": 13,
    "start_time": "2024-06-19T16:54:45.159Z"
   },
   {
    "duration": 4,
    "start_time": "2024-06-19T16:54:46.067Z"
   },
   {
    "duration": 5,
    "start_time": "2024-06-19T16:54:46.367Z"
   },
   {
    "duration": 3,
    "start_time": "2024-06-19T16:54:46.943Z"
   },
   {
    "duration": 12,
    "start_time": "2024-06-19T16:54:47.202Z"
   },
   {
    "duration": 5,
    "start_time": "2024-06-19T16:54:47.697Z"
   },
   {
    "duration": 14,
    "start_time": "2024-06-19T16:54:49.213Z"
   },
   {
    "duration": 11,
    "start_time": "2024-06-19T16:54:50.100Z"
   },
   {
    "duration": 11,
    "start_time": "2024-06-19T16:54:51.092Z"
   },
   {
    "duration": 63,
    "start_time": "2024-06-19T16:54:52.509Z"
   },
   {
    "duration": 12,
    "start_time": "2024-06-19T16:54:52.747Z"
   },
   {
    "duration": 12,
    "start_time": "2024-06-19T16:54:53.190Z"
   },
   {
    "duration": 3,
    "start_time": "2024-06-19T16:54:53.659Z"
   },
   {
    "duration": 10,
    "start_time": "2024-06-19T16:54:54.171Z"
   },
   {
    "duration": 6,
    "start_time": "2024-06-19T16:54:54.357Z"
   },
   {
    "duration": 306,
    "start_time": "2024-06-19T16:54:55.622Z"
   },
   {
    "duration": 277,
    "start_time": "2024-06-19T16:54:55.930Z"
   },
   {
    "duration": 216,
    "start_time": "2024-06-19T16:54:56.605Z"
   },
   {
    "duration": 308,
    "start_time": "2024-06-19T16:54:57.313Z"
   },
   {
    "duration": 253,
    "start_time": "2024-06-19T16:54:58.061Z"
   },
   {
    "duration": 360,
    "start_time": "2024-06-19T16:54:58.787Z"
   },
   {
    "duration": 152,
    "start_time": "2024-06-19T16:54:59.473Z"
   },
   {
    "duration": 5,
    "start_time": "2024-06-19T16:55:00.398Z"
   },
   {
    "duration": 182,
    "start_time": "2024-06-19T16:55:01.115Z"
   },
   {
    "duration": 171,
    "start_time": "2024-06-19T16:55:01.620Z"
   },
   {
    "duration": 7,
    "start_time": "2024-06-19T16:55:02.591Z"
   },
   {
    "duration": 9,
    "start_time": "2024-06-19T16:55:03.321Z"
   },
   {
    "duration": 8,
    "start_time": "2024-06-19T16:55:03.584Z"
   },
   {
    "duration": 22,
    "start_time": "2024-06-19T16:55:03.836Z"
   },
   {
    "duration": 451,
    "start_time": "2024-06-19T16:55:04.329Z"
   },
   {
    "duration": 15,
    "start_time": "2024-06-19T16:55:05.355Z"
   },
   {
    "duration": 10,
    "start_time": "2024-06-19T16:55:06.346Z"
   },
   {
    "duration": 16,
    "start_time": "2024-06-19T16:55:06.884Z"
   },
   {
    "duration": 520,
    "start_time": "2024-06-19T16:55:07.602Z"
   },
   {
    "duration": 16,
    "start_time": "2024-06-19T16:55:08.685Z"
   },
   {
    "duration": 1305,
    "start_time": "2024-06-19T17:35:16.905Z"
   },
   {
    "duration": 26,
    "start_time": "2024-06-19T17:35:18.212Z"
   },
   {
    "duration": 12,
    "start_time": "2024-06-19T17:35:18.240Z"
   },
   {
    "duration": 3,
    "start_time": "2024-06-19T17:35:18.254Z"
   },
   {
    "duration": 6,
    "start_time": "2024-06-19T17:35:18.258Z"
   },
   {
    "duration": 9,
    "start_time": "2024-06-19T17:35:18.265Z"
   },
   {
    "duration": 17,
    "start_time": "2024-06-19T17:35:18.276Z"
   },
   {
    "duration": 7,
    "start_time": "2024-06-19T17:35:18.296Z"
   },
   {
    "duration": 14,
    "start_time": "2024-06-19T17:35:18.304Z"
   },
   {
    "duration": 11,
    "start_time": "2024-06-19T17:35:18.320Z"
   },
   {
    "duration": 16,
    "start_time": "2024-06-19T17:35:18.333Z"
   },
   {
    "duration": 62,
    "start_time": "2024-06-19T17:35:18.350Z"
   },
   {
    "duration": 12,
    "start_time": "2024-06-19T17:35:18.414Z"
   },
   {
    "duration": 11,
    "start_time": "2024-06-19T17:35:18.428Z"
   },
   {
    "duration": 9,
    "start_time": "2024-06-19T17:35:18.440Z"
   },
   {
    "duration": 8,
    "start_time": "2024-06-19T17:35:18.450Z"
   },
   {
    "duration": 8,
    "start_time": "2024-06-19T17:35:18.459Z"
   },
   {
    "duration": 327,
    "start_time": "2024-06-19T17:35:18.469Z"
   },
   {
    "duration": 347,
    "start_time": "2024-06-19T17:35:18.798Z"
   },
   {
    "duration": 257,
    "start_time": "2024-06-19T17:35:19.147Z"
   },
   {
    "duration": 346,
    "start_time": "2024-06-19T17:35:19.405Z"
   },
   {
    "duration": 270,
    "start_time": "2024-06-19T17:35:19.754Z"
   },
   {
    "duration": 339,
    "start_time": "2024-06-19T17:35:20.026Z"
   },
   {
    "duration": 179,
    "start_time": "2024-06-19T17:35:20.366Z"
   },
   {
    "duration": 5,
    "start_time": "2024-06-19T17:35:20.546Z"
   },
   {
    "duration": 191,
    "start_time": "2024-06-19T17:35:20.553Z"
   },
   {
    "duration": 189,
    "start_time": "2024-06-19T17:35:20.746Z"
   },
   {
    "duration": 4,
    "start_time": "2024-06-19T17:35:20.940Z"
   },
   {
    "duration": 41,
    "start_time": "2024-06-19T17:35:20.946Z"
   },
   {
    "duration": 18,
    "start_time": "2024-06-19T17:35:20.990Z"
   },
   {
    "duration": 102,
    "start_time": "2024-06-19T17:35:21.009Z"
   },
   {
    "duration": 484,
    "start_time": "2024-06-19T17:35:21.113Z"
   },
   {
    "duration": 13,
    "start_time": "2024-06-19T17:35:21.599Z"
   },
   {
    "duration": 40,
    "start_time": "2024-06-19T17:35:21.614Z"
   },
   {
    "duration": 19,
    "start_time": "2024-06-19T17:35:21.656Z"
   },
   {
    "duration": 493,
    "start_time": "2024-06-19T17:35:21.677Z"
   },
   {
    "duration": 20,
    "start_time": "2024-06-19T17:35:22.181Z"
   },
   {
    "duration": 50,
    "start_time": "2024-06-20T09:32:10.564Z"
   },
   {
    "duration": 1483,
    "start_time": "2024-06-20T09:32:19.753Z"
   },
   {
    "duration": 80,
    "start_time": "2024-06-20T09:32:21.239Z"
   },
   {
    "duration": 13,
    "start_time": "2024-06-20T09:32:21.321Z"
   },
   {
    "duration": 4,
    "start_time": "2024-06-20T09:32:21.832Z"
   },
   {
    "duration": 5,
    "start_time": "2024-06-20T09:32:22.081Z"
   },
   {
    "duration": 3,
    "start_time": "2024-06-20T09:32:22.521Z"
   },
   {
    "duration": 13,
    "start_time": "2024-06-20T09:32:23.001Z"
   },
   {
    "duration": 6,
    "start_time": "2024-06-20T09:32:23.456Z"
   },
   {
    "duration": 16,
    "start_time": "2024-06-20T09:32:26.191Z"
   },
   {
    "duration": 12,
    "start_time": "2024-06-20T09:32:44.169Z"
   },
   {
    "duration": 12,
    "start_time": "2024-06-20T09:32:59.425Z"
   },
   {
    "duration": 14,
    "start_time": "2024-06-20T09:33:02.145Z"
   },
   {
    "duration": 144,
    "start_time": "2024-06-20T09:33:06.672Z"
   },
   {
    "duration": 12,
    "start_time": "2024-06-20T09:33:07.177Z"
   },
   {
    "duration": 15,
    "start_time": "2024-06-20T09:33:07.897Z"
   },
   {
    "duration": 3,
    "start_time": "2024-06-20T09:33:08.561Z"
   },
   {
    "duration": 7,
    "start_time": "2024-06-20T09:33:09.233Z"
   },
   {
    "duration": 7,
    "start_time": "2024-06-20T09:33:09.828Z"
   },
   {
    "duration": 300,
    "start_time": "2024-06-20T09:33:11.489Z"
   },
   {
    "duration": 327,
    "start_time": "2024-06-20T09:33:11.816Z"
   },
   {
    "duration": 213,
    "start_time": "2024-06-20T09:33:13.617Z"
   },
   {
    "duration": 411,
    "start_time": "2024-06-20T09:33:14.953Z"
   },
   {
    "duration": 238,
    "start_time": "2024-06-20T09:33:16.121Z"
   },
   {
    "duration": 305,
    "start_time": "2024-06-20T09:33:17.137Z"
   },
   {
    "duration": 154,
    "start_time": "2024-06-20T09:33:18.113Z"
   },
   {
    "duration": 6,
    "start_time": "2024-06-20T09:33:19.320Z"
   },
   {
    "duration": 173,
    "start_time": "2024-06-20T09:33:20.249Z"
   },
   {
    "duration": 159,
    "start_time": "2024-06-20T09:33:20.706Z"
   },
   {
    "duration": 6,
    "start_time": "2024-06-20T09:33:21.905Z"
   },
   {
    "duration": 9,
    "start_time": "2024-06-20T09:33:22.833Z"
   },
   {
    "duration": 8,
    "start_time": "2024-06-20T09:33:23.073Z"
   },
   {
    "duration": 26,
    "start_time": "2024-06-20T09:33:23.313Z"
   },
   {
    "duration": 480,
    "start_time": "2024-06-20T09:33:24.073Z"
   },
   {
    "duration": 12,
    "start_time": "2024-06-20T09:33:25.289Z"
   },
   {
    "duration": 9,
    "start_time": "2024-06-20T09:33:26.505Z"
   },
   {
    "duration": 26,
    "start_time": "2024-06-20T09:33:26.993Z"
   },
   {
    "duration": 412,
    "start_time": "2024-06-20T09:33:27.497Z"
   },
   {
    "duration": 16,
    "start_time": "2024-06-20T09:33:28.713Z"
   },
   {
    "duration": 1325,
    "start_time": "2024-06-20T10:33:25.874Z"
   },
   {
    "duration": 27,
    "start_time": "2024-06-20T10:33:27.201Z"
   },
   {
    "duration": 12,
    "start_time": "2024-06-20T10:33:27.230Z"
   },
   {
    "duration": 5,
    "start_time": "2024-06-20T10:33:27.244Z"
   },
   {
    "duration": 7,
    "start_time": "2024-06-20T10:33:27.250Z"
   },
   {
    "duration": 7,
    "start_time": "2024-06-20T10:33:27.259Z"
   },
   {
    "duration": 26,
    "start_time": "2024-06-20T10:33:27.267Z"
   },
   {
    "duration": 6,
    "start_time": "2024-06-20T10:33:27.295Z"
   },
   {
    "duration": 16,
    "start_time": "2024-06-20T10:33:27.303Z"
   },
   {
    "duration": 13,
    "start_time": "2024-06-20T10:33:27.322Z"
   },
   {
    "duration": 12,
    "start_time": "2024-06-20T10:33:27.336Z"
   },
   {
    "duration": 89,
    "start_time": "2024-06-20T10:33:27.350Z"
   },
   {
    "duration": 13,
    "start_time": "2024-06-20T10:33:27.441Z"
   },
   {
    "duration": 12,
    "start_time": "2024-06-20T10:33:27.456Z"
   },
   {
    "duration": 4,
    "start_time": "2024-06-20T10:33:27.470Z"
   },
   {
    "duration": 14,
    "start_time": "2024-06-20T10:33:27.475Z"
   },
   {
    "duration": 8,
    "start_time": "2024-06-20T10:33:27.492Z"
   },
   {
    "duration": 386,
    "start_time": "2024-06-20T10:33:27.502Z"
   },
   {
    "duration": 369,
    "start_time": "2024-06-20T10:33:27.891Z"
   },
   {
    "duration": 244,
    "start_time": "2024-06-20T10:33:28.262Z"
   },
   {
    "duration": 327,
    "start_time": "2024-06-20T10:33:28.508Z"
   },
   {
    "duration": 264,
    "start_time": "2024-06-20T10:33:28.837Z"
   },
   {
    "duration": 368,
    "start_time": "2024-06-20T10:33:29.102Z"
   },
   {
    "duration": 176,
    "start_time": "2024-06-20T10:33:29.472Z"
   },
   {
    "duration": 6,
    "start_time": "2024-06-20T10:33:29.650Z"
   },
   {
    "duration": 211,
    "start_time": "2024-06-20T10:33:29.658Z"
   },
   {
    "duration": 226,
    "start_time": "2024-06-20T10:33:29.871Z"
   },
   {
    "duration": 6,
    "start_time": "2024-06-20T10:33:30.101Z"
   },
   {
    "duration": 73,
    "start_time": "2024-06-20T10:33:30.109Z"
   },
   {
    "duration": 38,
    "start_time": "2024-06-20T10:33:30.183Z"
   },
   {
    "duration": 102,
    "start_time": "2024-06-20T10:33:30.223Z"
   },
   {
    "duration": 485,
    "start_time": "2024-06-20T10:33:30.327Z"
   },
   {
    "duration": 13,
    "start_time": "2024-06-20T10:33:30.814Z"
   },
   {
    "duration": 53,
    "start_time": "2024-06-20T10:33:30.829Z"
   },
   {
    "duration": 85,
    "start_time": "2024-06-20T10:33:30.884Z"
   },
   {
    "duration": 449,
    "start_time": "2024-06-20T10:33:30.970Z"
   },
   {
    "duration": 19,
    "start_time": "2024-06-20T10:33:31.421Z"
   }
  ],
  "kernelspec": {
   "display_name": "Python 3 (ipykernel)",
   "language": "python",
   "name": "python3"
  },
  "language_info": {
   "codemirror_mode": {
    "name": "ipython",
    "version": 3
   },
   "file_extension": ".py",
   "mimetype": "text/x-python",
   "name": "python",
   "nbconvert_exporter": "python",
   "pygments_lexer": "ipython3",
   "version": "3.9.5"
  },
  "toc": {
   "base_numbering": 1,
   "nav_menu": {},
   "number_sections": true,
   "sideBar": true,
   "skip_h1_title": true,
   "title_cell": "Table of Contents",
   "title_sidebar": "Contents",
   "toc_cell": false,
   "toc_position": {},
   "toc_section_display": true,
   "toc_window_display": false
  }
 },
 "nbformat": 4,
 "nbformat_minor": 2
}
